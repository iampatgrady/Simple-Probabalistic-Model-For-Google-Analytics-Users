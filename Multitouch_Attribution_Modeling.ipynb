{
  "nbformat": 4,
  "nbformat_minor": 0,
  "metadata": {
    "colab": {
      "name": "Multitouch Attribution Modeling.ipynb",
      "provenance": [],
      "include_colab_link": true
    },
    "kernelspec": {
      "name": "python2",
      "display_name": "Python 2"
    }
  },
  "cells": [
    {
      "cell_type": "markdown",
      "metadata": {
        "id": "view-in-github",
        "colab_type": "text"
      },
      "source": [
        "<a href=\"https://colab.research.google.com/github/iampatgrady/Simple-Probabalistic-Model-For-Google-Analytics-Users/blob/master/Multitouch_Attribution_Modeling.ipynb\" target=\"_parent\"><img src=\"https://colab.research.google.com/assets/colab-badge.svg\" alt=\"Open In Colab\"/></a>"
      ]
    },
    {
      "cell_type": "markdown",
      "metadata": {
        "id": "97dyiCngzXJR",
        "colab_type": "text"
      },
      "source": [
        "# Probabilistic Multi-Touch Attribution Model\n",
        "\n",
        "<img src=\"https://storage.googleapis.com/pats-test/images/multi-touch.png\">\n",
        "\n",
        "We will demonstrate how to apply a probabilistic, multi-touch attribution model to your GA data using Python and BigQuery libraries. The procedure in this notebook is based on an article published in 2011 by [Xuhui Shao.](https://www.linkedin.com/in/xuhuishao/) The resulting score helps marketers better understand their channel investments.\n",
        "\n",
        "Big thanks to [Anže Kravanja](https://www.linkedin.com/in/an%C5%BEe-kravanja-54006194/), [Luka Cempre](https://www.linkedin.com/in/luka-cempre-9b5ba71a/), and [Clay Porter](https://www.linkedin.com/in/clayporter1/) for their help in putting this notebook together!\n",
        "\n",
        "Here is the author, [Xuhui Shao](https://www.linkedin.com/in/xuhuishao/), describing the <a href=\"https://www.clickz.com/the-math-behind-multi-touch-attribution/50028/\">math behind the model</a>:  \n",
        "\n",
        "<img src=\"https://storage.googleapis.com/pats-test/images/model.png\">  \n",
        ">Let’s say for one converted user, email contributes 15 percent alone and makes other channels such as display and video 20 percent better. The overall contribution of email to this conversion is 35 percent.\n",
        "\n",
        ">The contributions of all the touch points are then normalized to ensure they always add up to 100 percent. In other words, the credit of the conversion is proportionately assigned to each touch point based on its relative contribution in increasing the user’s probability to convert."
      ]
    },
    {
      "cell_type": "code",
      "metadata": {
        "id": "dOwQBBM6sz-I",
        "colab_type": "code",
        "colab": {}
      },
      "source": [
        "import pandas as pd\n",
        "import numpy as np\n",
        "import itertools\n",
        "import urllib2\n",
        "import matplotlib.pylab as plt\n",
        "plt.style.use(\"fivethirtyeight\")"
      ],
      "execution_count": 0,
      "outputs": []
    },
    {
      "cell_type": "markdown",
      "metadata": {
        "id": "6iWCFXRK2XRt",
        "colab_type": "text"
      },
      "source": [
        "## Query GA Data in BigQuery\n",
        "The <a href=\"https://storage.googleapis.com/pats-test/sql/multi_touch_attribution.sql\">multi_touch_attribution.sql</a> SQL is used to format our data in the appropriate schema for our data pipeline.\n",
        "\n",
        "You'll want to download and inspect the SQL, and then upload that file to your local Drive directory below:"
      ]
    },
    {
      "cell_type": "markdown",
      "metadata": {
        "id": "mx4M6LWr2s6C",
        "colab_type": "text"
      },
      "source": [
        "You're ready to execute the query after adding a target table and start and end dates. In our case we're using the BigQuery GA data for Google Merchandize Store.\n"
      ]
    },
    {
      "cell_type": "code",
      "metadata": {
        "id": "JJDERjTMMdbt",
        "colab_type": "code",
        "colab": {}
      },
      "source": [
        "#@title Enter your BigQuery project ID { run: \"auto\", display-mode: \"form\" }\n",
        "project = \"as-dev-pat\" #@param {type:\"string\"}\n",
        "target = \"bigquery-public-data.google_analytics_sample.ga_sessions_*\" #@param {type:\"string\"}\n",
        "start = \"2016-07-01\" #@param {type:\"date\"}\n",
        "end = \"2017-08-01\" #@param {type:\"date\"}\n"
      ],
      "execution_count": 0,
      "outputs": []
    },
    {
      "cell_type": "code",
      "metadata": {
        "id": "cZH91Fpus_Pv",
        "colab_type": "code",
        "outputId": "2c46624a-0947-4861-bebd-dac64dbbb0b2",
        "colab": {
          "base_uri": "https://localhost:8080/",
          "height": 221
        }
      },
      "source": [
        "from google.colab import auth\n",
        "auth.authenticate_user()\n",
        "\n",
        "sql_query = urllib2 \\\n",
        "  .urlopen(\"https://storage.googleapis.com/pats-test/sql/multi_touch_attribution.sql\") \\\n",
        "  .read().format(target,start.replace(\"-\",\"\"),end.replace(\"-\",\"\"))\n",
        "\n",
        "ga_data = pd.io.gbq.read_gbq(sql_query,project_id=project,dialect='standard')\n",
        "\n",
        "print ga_data.shape\n",
        "ga_data.sample(5)"
      ],
      "execution_count": 20,
      "outputs": [
        {
          "output_type": "stream",
          "text": [
            "(714167, 3)\n"
          ],
          "name": "stdout"
        },
        {
          "output_type": "execute_result",
          "data": {
            "text/plain": [
              "              fullVisitorId          channels  converted\n",
              "134192  1884374490201862036  [Organic Search]          0\n",
              "610134  8542907014444995770        [Referral]          0\n",
              "670343     9387190185114213      [Affiliates]          0\n",
              "323015  4530222971404581209  [Organic Search]          0\n",
              "490661  6874898469775205917  [Organic Search]          0"
            ],
            "text/html": [
              "<div>\n",
              "<style scoped>\n",
              "    .dataframe tbody tr th:only-of-type {\n",
              "        vertical-align: middle;\n",
              "    }\n",
              "\n",
              "    .dataframe tbody tr th {\n",
              "        vertical-align: top;\n",
              "    }\n",
              "\n",
              "    .dataframe thead th {\n",
              "        text-align: right;\n",
              "    }\n",
              "</style>\n",
              "<table border=\"1\" class=\"dataframe\">\n",
              "  <thead>\n",
              "    <tr style=\"text-align: right;\">\n",
              "      <th></th>\n",
              "      <th>fullVisitorId</th>\n",
              "      <th>channels</th>\n",
              "      <th>converted</th>\n",
              "    </tr>\n",
              "  </thead>\n",
              "  <tbody>\n",
              "    <tr>\n",
              "      <th>134192</th>\n",
              "      <td>1884374490201862036</td>\n",
              "      <td>[Organic Search]</td>\n",
              "      <td>0</td>\n",
              "    </tr>\n",
              "    <tr>\n",
              "      <th>610134</th>\n",
              "      <td>8542907014444995770</td>\n",
              "      <td>[Referral]</td>\n",
              "      <td>0</td>\n",
              "    </tr>\n",
              "    <tr>\n",
              "      <th>670343</th>\n",
              "      <td>9387190185114213</td>\n",
              "      <td>[Affiliates]</td>\n",
              "      <td>0</td>\n",
              "    </tr>\n",
              "    <tr>\n",
              "      <th>323015</th>\n",
              "      <td>4530222971404581209</td>\n",
              "      <td>[Organic Search]</td>\n",
              "      <td>0</td>\n",
              "    </tr>\n",
              "    <tr>\n",
              "      <th>490661</th>\n",
              "      <td>6874898469775205917</td>\n",
              "      <td>[Organic Search]</td>\n",
              "      <td>0</td>\n",
              "    </tr>\n",
              "  </tbody>\n",
              "</table>\n",
              "</div>"
            ]
          },
          "metadata": {
            "tags": []
          },
          "execution_count": 20
        }
      ]
    },
    {
      "cell_type": "markdown",
      "metadata": {
        "id": "YrD-pq3P195-",
        "colab_type": "text"
      },
      "source": [
        "## Individual Channel Probability\n",
        "\n",
        "<img src=\"https://storage.googleapis.com/pats-test/images/channel_probability.jpg\">  \n",
        "\n",
        "    P(y|xi) = positives / positives + negatives = conversions / users = channel conversion rate  \n"
      ]
    },
    {
      "cell_type": "code",
      "metadata": {
        "id": "EgwqXCQ3tgM5",
        "colab_type": "code",
        "outputId": "3bcd5a90-75c4-4563-a329-9edf3065c249",
        "colab": {
          "base_uri": "https://localhost:8080/",
          "height": 297
        }
      },
      "source": [
        "channel_metrics_map = {}  \n",
        "\n",
        "for user in ga_data.to_records(): \n",
        "    \n",
        "    for channel in user[\"channels\"]:\n",
        "        \n",
        "        if not channel in channel_metrics_map:\n",
        "            channel_metrics_map[channel] = { \"conversions\": 0.0, \"users\": 0.0 }\n",
        "            \n",
        "        channel_metrics_map[channel][\"conversions\"] += float(user[\"converted\"])\n",
        "        channel_metrics_map[channel][\"users\"] += 1.0 \n",
        "\n",
        "pd.DataFrame(channel_metrics_map).transpose().sort_values(by='conversions',ascending=False)"
      ],
      "execution_count": 21,
      "outputs": [
        {
          "output_type": "execute_result",
          "data": {
            "text/plain": [
              "                conversions     users\n",
              "Referral             4685.0   65507.0\n",
              "Organic Search       3496.0  311429.0\n",
              "Direct               2223.0  109795.0\n",
              "Paid Search           554.0   18600.0\n",
              "Display               201.0    4027.0\n",
              "Social                118.0  212352.0\n",
              "Affiliates             14.0   13399.0\n",
              "(Other)                 1.0      86.0"
            ],
            "text/html": [
              "<div>\n",
              "<style scoped>\n",
              "    .dataframe tbody tr th:only-of-type {\n",
              "        vertical-align: middle;\n",
              "    }\n",
              "\n",
              "    .dataframe tbody tr th {\n",
              "        vertical-align: top;\n",
              "    }\n",
              "\n",
              "    .dataframe thead th {\n",
              "        text-align: right;\n",
              "    }\n",
              "</style>\n",
              "<table border=\"1\" class=\"dataframe\">\n",
              "  <thead>\n",
              "    <tr style=\"text-align: right;\">\n",
              "      <th></th>\n",
              "      <th>conversions</th>\n",
              "      <th>users</th>\n",
              "    </tr>\n",
              "  </thead>\n",
              "  <tbody>\n",
              "    <tr>\n",
              "      <th>Referral</th>\n",
              "      <td>4685.0</td>\n",
              "      <td>65507.0</td>\n",
              "    </tr>\n",
              "    <tr>\n",
              "      <th>Organic Search</th>\n",
              "      <td>3496.0</td>\n",
              "      <td>311429.0</td>\n",
              "    </tr>\n",
              "    <tr>\n",
              "      <th>Direct</th>\n",
              "      <td>2223.0</td>\n",
              "      <td>109795.0</td>\n",
              "    </tr>\n",
              "    <tr>\n",
              "      <th>Paid Search</th>\n",
              "      <td>554.0</td>\n",
              "      <td>18600.0</td>\n",
              "    </tr>\n",
              "    <tr>\n",
              "      <th>Display</th>\n",
              "      <td>201.0</td>\n",
              "      <td>4027.0</td>\n",
              "    </tr>\n",
              "    <tr>\n",
              "      <th>Social</th>\n",
              "      <td>118.0</td>\n",
              "      <td>212352.0</td>\n",
              "    </tr>\n",
              "    <tr>\n",
              "      <th>Affiliates</th>\n",
              "      <td>14.0</td>\n",
              "      <td>13399.0</td>\n",
              "    </tr>\n",
              "    <tr>\n",
              "      <th>(Other)</th>\n",
              "      <td>1.0</td>\n",
              "      <td>86.0</td>\n",
              "    </tr>\n",
              "  </tbody>\n",
              "</table>\n",
              "</div>"
            ]
          },
          "metadata": {
            "tags": []
          },
          "execution_count": 21
        }
      ]
    },
    {
      "cell_type": "markdown",
      "metadata": {
        "id": "_fqLU-7Y2Dl_",
        "colab_type": "text"
      },
      "source": [
        "## Pairwise Channel Probabilities\n",
        "\n",
        "<img src=\"https://storage.googleapis.com/pats-test/images/pairwise_probability.png\">"
      ]
    },
    {
      "cell_type": "code",
      "metadata": {
        "id": "0fSPMKRfxGE8",
        "colab_type": "code",
        "outputId": "d3408c47-f37c-4393-cced-b7c3597e3950",
        "colab": {
          "base_uri": "https://localhost:8080/",
          "height": 359
        }
      },
      "source": [
        "channel_metrics = channel_metrics_map.copy()\n",
        "\n",
        "for xi,xj in itertools.combinations(channel_metrics.keys(), 2):\n",
        "    \n",
        "    key = \"{}|{}\".format(xi, xj)\n",
        "    \n",
        "    for user in ga_data.loc[ga_data.channels.map(lambda c: ((xi in c) & (xj in c))) == True].to_records():\n",
        "         \n",
        "        if not key in channel_metrics: \n",
        "            channel_metrics[key] = { \"conversions\": 0.0, \"users\": 0.0 }\n",
        "\n",
        "        channel_metrics[key][\"conversions\"] += float(user[3]) \n",
        "        channel_metrics[key][\"users\"] += 1.0 \n",
        "\n",
        "pd.DataFrame(channel_metrics).transpose().sort_values(by='conversions', ascending=False) \\\n",
        "    .reset_index().rename(columns={'index':'channels'})[:10]"
      ],
      "execution_count": 22,
      "outputs": [
        {
          "output_type": "execute_result",
          "data": {
            "text/plain": [
              "                     channels  conversions     users\n",
              "0                    Referral       4685.0   65507.0\n",
              "1              Organic Search       3496.0  311429.0\n",
              "2                      Direct       2223.0  109795.0\n",
              "3                 Paid Search        554.0   18600.0\n",
              "4             Direct|Referral        393.0    3141.0\n",
              "5     Referral|Organic Search        380.0    4738.0\n",
              "6                     Display        201.0    4027.0\n",
              "7  Paid Search|Organic Search        169.0    3688.0\n",
              "8       Direct|Organic Search        129.0    2988.0\n",
              "9                      Social        118.0  212352.0"
            ],
            "text/html": [
              "<div>\n",
              "<style scoped>\n",
              "    .dataframe tbody tr th:only-of-type {\n",
              "        vertical-align: middle;\n",
              "    }\n",
              "\n",
              "    .dataframe tbody tr th {\n",
              "        vertical-align: top;\n",
              "    }\n",
              "\n",
              "    .dataframe thead th {\n",
              "        text-align: right;\n",
              "    }\n",
              "</style>\n",
              "<table border=\"1\" class=\"dataframe\">\n",
              "  <thead>\n",
              "    <tr style=\"text-align: right;\">\n",
              "      <th></th>\n",
              "      <th>channels</th>\n",
              "      <th>conversions</th>\n",
              "      <th>users</th>\n",
              "    </tr>\n",
              "  </thead>\n",
              "  <tbody>\n",
              "    <tr>\n",
              "      <th>0</th>\n",
              "      <td>Referral</td>\n",
              "      <td>4685.0</td>\n",
              "      <td>65507.0</td>\n",
              "    </tr>\n",
              "    <tr>\n",
              "      <th>1</th>\n",
              "      <td>Organic Search</td>\n",
              "      <td>3496.0</td>\n",
              "      <td>311429.0</td>\n",
              "    </tr>\n",
              "    <tr>\n",
              "      <th>2</th>\n",
              "      <td>Direct</td>\n",
              "      <td>2223.0</td>\n",
              "      <td>109795.0</td>\n",
              "    </tr>\n",
              "    <tr>\n",
              "      <th>3</th>\n",
              "      <td>Paid Search</td>\n",
              "      <td>554.0</td>\n",
              "      <td>18600.0</td>\n",
              "    </tr>\n",
              "    <tr>\n",
              "      <th>4</th>\n",
              "      <td>Direct|Referral</td>\n",
              "      <td>393.0</td>\n",
              "      <td>3141.0</td>\n",
              "    </tr>\n",
              "    <tr>\n",
              "      <th>5</th>\n",
              "      <td>Referral|Organic Search</td>\n",
              "      <td>380.0</td>\n",
              "      <td>4738.0</td>\n",
              "    </tr>\n",
              "    <tr>\n",
              "      <th>6</th>\n",
              "      <td>Display</td>\n",
              "      <td>201.0</td>\n",
              "      <td>4027.0</td>\n",
              "    </tr>\n",
              "    <tr>\n",
              "      <th>7</th>\n",
              "      <td>Paid Search|Organic Search</td>\n",
              "      <td>169.0</td>\n",
              "      <td>3688.0</td>\n",
              "    </tr>\n",
              "    <tr>\n",
              "      <th>8</th>\n",
              "      <td>Direct|Organic Search</td>\n",
              "      <td>129.0</td>\n",
              "      <td>2988.0</td>\n",
              "    </tr>\n",
              "    <tr>\n",
              "      <th>9</th>\n",
              "      <td>Social</td>\n",
              "      <td>118.0</td>\n",
              "      <td>212352.0</td>\n",
              "    </tr>\n",
              "  </tbody>\n",
              "</table>\n",
              "</div>"
            ]
          },
          "metadata": {
            "tags": []
          },
          "execution_count": 22
        }
      ]
    },
    {
      "cell_type": "markdown",
      "metadata": {
        "id": "_k6lMU9_4ESh",
        "colab_type": "text"
      },
      "source": [
        "### Add calculated field: `Conversion Rate`"
      ]
    },
    {
      "cell_type": "code",
      "metadata": {
        "id": "UJ0zTqUhySNJ",
        "colab_type": "code",
        "outputId": "87ed35e8-742b-445c-95d8-214a9b48a5f4",
        "colab": {
          "base_uri": "https://localhost:8080/",
          "height": 204
        }
      },
      "source": [
        "for key in channel_metrics:\n",
        "    channel_metrics[key][\"conversion rate\"] = np.divide(\n",
        "        channel_metrics[key][\"conversions\"] , \n",
        "        channel_metrics[key][\"users\"]\n",
        "    )\n",
        "\n",
        "pd.DataFrame(channel_metrics).transpose().sort_values(by='conversions', ascending=False) \\\n",
        "    .reset_index().rename(columns={'index':'channels'})[:5]"
      ],
      "execution_count": 23,
      "outputs": [
        {
          "output_type": "execute_result",
          "data": {
            "text/plain": [
              "          channels  conversion rate  conversions     users\n",
              "0         Referral         0.071519       4685.0   65507.0\n",
              "1   Organic Search         0.011226       3496.0  311429.0\n",
              "2           Direct         0.020247       2223.0  109795.0\n",
              "3      Paid Search         0.029785        554.0   18600.0\n",
              "4  Direct|Referral         0.125119        393.0    3141.0"
            ],
            "text/html": [
              "<div>\n",
              "<style scoped>\n",
              "    .dataframe tbody tr th:only-of-type {\n",
              "        vertical-align: middle;\n",
              "    }\n",
              "\n",
              "    .dataframe tbody tr th {\n",
              "        vertical-align: top;\n",
              "    }\n",
              "\n",
              "    .dataframe thead th {\n",
              "        text-align: right;\n",
              "    }\n",
              "</style>\n",
              "<table border=\"1\" class=\"dataframe\">\n",
              "  <thead>\n",
              "    <tr style=\"text-align: right;\">\n",
              "      <th></th>\n",
              "      <th>channels</th>\n",
              "      <th>conversion rate</th>\n",
              "      <th>conversions</th>\n",
              "      <th>users</th>\n",
              "    </tr>\n",
              "  </thead>\n",
              "  <tbody>\n",
              "    <tr>\n",
              "      <th>0</th>\n",
              "      <td>Referral</td>\n",
              "      <td>0.071519</td>\n",
              "      <td>4685.0</td>\n",
              "      <td>65507.0</td>\n",
              "    </tr>\n",
              "    <tr>\n",
              "      <th>1</th>\n",
              "      <td>Organic Search</td>\n",
              "      <td>0.011226</td>\n",
              "      <td>3496.0</td>\n",
              "      <td>311429.0</td>\n",
              "    </tr>\n",
              "    <tr>\n",
              "      <th>2</th>\n",
              "      <td>Direct</td>\n",
              "      <td>0.020247</td>\n",
              "      <td>2223.0</td>\n",
              "      <td>109795.0</td>\n",
              "    </tr>\n",
              "    <tr>\n",
              "      <th>3</th>\n",
              "      <td>Paid Search</td>\n",
              "      <td>0.029785</td>\n",
              "      <td>554.0</td>\n",
              "      <td>18600.0</td>\n",
              "    </tr>\n",
              "    <tr>\n",
              "      <th>4</th>\n",
              "      <td>Direct|Referral</td>\n",
              "      <td>0.125119</td>\n",
              "      <td>393.0</td>\n",
              "      <td>3141.0</td>\n",
              "    </tr>\n",
              "  </tbody>\n",
              "</table>\n",
              "</div>"
            ]
          },
          "metadata": {
            "tags": []
          },
          "execution_count": 23
        }
      ]
    },
    {
      "cell_type": "markdown",
      "metadata": {
        "id": "u_ueLjzj4JL7",
        "colab_type": "text"
      },
      "source": [
        "## Simple Multi-Touch Probabilistic Model\n",
        "<img src=\"https://storage.googleapis.com/pats-test/images/model.png\">"
      ]
    },
    {
      "cell_type": "code",
      "metadata": {
        "id": "UCTMXO8Vz0E9",
        "colab_type": "code",
        "outputId": "d3a4dba7-154f-426e-ff90-682db14f01a6",
        "colab": {
          "base_uri": "https://localhost:8080/",
          "height": 297
        }
      },
      "source": [
        "channels = [ c for c in channel_metrics.keys() if not \"|\" in c ]\n",
        "channel_contrib = {} \n",
        "\n",
        "for channel in channels:\n",
        "    \n",
        "    p_xi = channel_metrics[channel][\"conversion rate\"]\n",
        "    \n",
        "    combinations = [ c for c in channel_metrics.keys() if channel in c and \"|\" in c ] \n",
        "    n = np.divide(1.0 , float(2 * len(combinations)))\n",
        "    \n",
        "    sum_part = []\n",
        "    \n",
        "    for combination in combinations:\n",
        "        \n",
        "        xi_xj = channel_metrics[combination][\"conversion rate\"]\n",
        "                                             \n",
        "        xi = channel_metrics[ combination.split(\"|\")[0] ][\"conversion rate\"]\n",
        "        xj = channel_metrics[ combination.split(\"|\")[1] ][\"conversion rate\"]\n",
        "                                             \n",
        "        sum_part.append(xi_xj - xi - xj)\n",
        "    \n",
        "    s = np.sum(sum_part)\n",
        "    channel_contrib[channel] = p_xi + n * (s if s > 0 else 0)\n",
        "\n",
        "pd.DataFrame([channel_contrib]).transpose()"
      ],
      "execution_count": 24,
      "outputs": [
        {
          "output_type": "execute_result",
          "data": {
            "text/plain": [
              "                       0\n",
              "(Other)         0.011628\n",
              "Affiliates      0.001045\n",
              "Direct          0.020247\n",
              "Display         0.049913\n",
              "Organic Search  0.011226\n",
              "Paid Search     0.029785\n",
              "Referral        0.071519\n",
              "Social          0.000556"
            ],
            "text/html": [
              "<div>\n",
              "<style scoped>\n",
              "    .dataframe tbody tr th:only-of-type {\n",
              "        vertical-align: middle;\n",
              "    }\n",
              "\n",
              "    .dataframe tbody tr th {\n",
              "        vertical-align: top;\n",
              "    }\n",
              "\n",
              "    .dataframe thead th {\n",
              "        text-align: right;\n",
              "    }\n",
              "</style>\n",
              "<table border=\"1\" class=\"dataframe\">\n",
              "  <thead>\n",
              "    <tr style=\"text-align: right;\">\n",
              "      <th></th>\n",
              "      <th>0</th>\n",
              "    </tr>\n",
              "  </thead>\n",
              "  <tbody>\n",
              "    <tr>\n",
              "      <th>(Other)</th>\n",
              "      <td>0.011628</td>\n",
              "    </tr>\n",
              "    <tr>\n",
              "      <th>Affiliates</th>\n",
              "      <td>0.001045</td>\n",
              "    </tr>\n",
              "    <tr>\n",
              "      <th>Direct</th>\n",
              "      <td>0.020247</td>\n",
              "    </tr>\n",
              "    <tr>\n",
              "      <th>Display</th>\n",
              "      <td>0.049913</td>\n",
              "    </tr>\n",
              "    <tr>\n",
              "      <th>Organic Search</th>\n",
              "      <td>0.011226</td>\n",
              "    </tr>\n",
              "    <tr>\n",
              "      <th>Paid Search</th>\n",
              "      <td>0.029785</td>\n",
              "    </tr>\n",
              "    <tr>\n",
              "      <th>Referral</th>\n",
              "      <td>0.071519</td>\n",
              "    </tr>\n",
              "    <tr>\n",
              "      <th>Social</th>\n",
              "      <td>0.000556</td>\n",
              "    </tr>\n",
              "  </tbody>\n",
              "</table>\n",
              "</div>"
            ]
          },
          "metadata": {
            "tags": []
          },
          "execution_count": 24
        }
      ]
    },
    {
      "cell_type": "markdown",
      "metadata": {
        "id": "JYb-_gqy4QQR",
        "colab_type": "text"
      },
      "source": [
        "### Covert to `% of Total`, column sums to 1"
      ]
    },
    {
      "cell_type": "code",
      "metadata": {
        "id": "YxgG9gzu4Q6d",
        "colab_type": "code",
        "outputId": "da53c498-84c1-4ad5-9290-ae2b0d206944",
        "colab": {
          "base_uri": "https://localhost:8080/",
          "height": 314
        }
      },
      "source": [
        "c_sum = np.sum([ channel_contrib[ch] for ch in channel_contrib.keys() ])\n",
        "for key in channel_contrib.keys():\n",
        "    channel_contrib[key] /= c_sum\n",
        "    \n",
        "results = pd.DataFrame(channel_contrib.items())\n",
        "results.columns=['channel','contribution']\n",
        "print \"The contribution column sums to {}\".format(sum(results[\"contribution\"]))\n",
        "results.sort_values(by='contribution',ascending=False).reset_index(drop=True)"
      ],
      "execution_count": 25,
      "outputs": [
        {
          "output_type": "stream",
          "text": [
            "The contribution column sums to 1.0\n"
          ],
          "name": "stdout"
        },
        {
          "output_type": "execute_result",
          "data": {
            "text/plain": [
              "          channel  contribution\n",
              "0        Referral      0.365046\n",
              "1         Display      0.254765\n",
              "2     Paid Search      0.152028\n",
              "3          Direct      0.103343\n",
              "4         (Other)      0.059351\n",
              "5  Organic Search      0.057298\n",
              "6      Affiliates      0.005333\n",
              "7          Social      0.002836"
            ],
            "text/html": [
              "<div>\n",
              "<style scoped>\n",
              "    .dataframe tbody tr th:only-of-type {\n",
              "        vertical-align: middle;\n",
              "    }\n",
              "\n",
              "    .dataframe tbody tr th {\n",
              "        vertical-align: top;\n",
              "    }\n",
              "\n",
              "    .dataframe thead th {\n",
              "        text-align: right;\n",
              "    }\n",
              "</style>\n",
              "<table border=\"1\" class=\"dataframe\">\n",
              "  <thead>\n",
              "    <tr style=\"text-align: right;\">\n",
              "      <th></th>\n",
              "      <th>channel</th>\n",
              "      <th>contribution</th>\n",
              "    </tr>\n",
              "  </thead>\n",
              "  <tbody>\n",
              "    <tr>\n",
              "      <th>0</th>\n",
              "      <td>Referral</td>\n",
              "      <td>0.365046</td>\n",
              "    </tr>\n",
              "    <tr>\n",
              "      <th>1</th>\n",
              "      <td>Display</td>\n",
              "      <td>0.254765</td>\n",
              "    </tr>\n",
              "    <tr>\n",
              "      <th>2</th>\n",
              "      <td>Paid Search</td>\n",
              "      <td>0.152028</td>\n",
              "    </tr>\n",
              "    <tr>\n",
              "      <th>3</th>\n",
              "      <td>Direct</td>\n",
              "      <td>0.103343</td>\n",
              "    </tr>\n",
              "    <tr>\n",
              "      <th>4</th>\n",
              "      <td>(Other)</td>\n",
              "      <td>0.059351</td>\n",
              "    </tr>\n",
              "    <tr>\n",
              "      <th>5</th>\n",
              "      <td>Organic Search</td>\n",
              "      <td>0.057298</td>\n",
              "    </tr>\n",
              "    <tr>\n",
              "      <th>6</th>\n",
              "      <td>Affiliates</td>\n",
              "      <td>0.005333</td>\n",
              "    </tr>\n",
              "    <tr>\n",
              "      <th>7</th>\n",
              "      <td>Social</td>\n",
              "      <td>0.002836</td>\n",
              "    </tr>\n",
              "  </tbody>\n",
              "</table>\n",
              "</div>"
            ]
          },
          "metadata": {
            "tags": []
          },
          "execution_count": 25
        }
      ]
    },
    {
      "cell_type": "markdown",
      "metadata": {
        "id": "CUzq71g94Xg7",
        "colab_type": "text"
      },
      "source": [
        "### Add context by creating weighted fields"
      ]
    },
    {
      "cell_type": "code",
      "metadata": {
        "id": "st5R-ugD4VA3",
        "colab_type": "code",
        "outputId": "d8ad1ed6-2998-4cca-e413-281b8bcbe49b",
        "colab": {
          "base_uri": "https://localhost:8080/",
          "height": 297
        }
      },
      "source": [
        "results[\"conversions\"] = results.channel.map(lambda x: channel_metrics[x][\"conversions\"])\n",
        "\n",
        "results[\"score\"] = results[\"conversions\"] * results[\"contribution\"]\n",
        "\n",
        "results['importance'] = np.divide(\n",
        "    results['score']-results['score'].min() , \n",
        "    results['score'].max()-results['score'].min()\n",
        ")\n",
        "\n",
        "results = results.sort_values('importance',ascending=False).fillna(0).reset_index(drop=True)\n",
        "results"
      ],
      "execution_count": 26,
      "outputs": [
        {
          "output_type": "execute_result",
          "data": {
            "text/plain": [
              "          channel  contribution  conversions        score  importance\n",
              "0        Referral      0.365046       4685.0  1710.239922    1.000000\n",
              "1          Direct      0.103343       2223.0   229.732227    0.134297\n",
              "2  Organic Search      0.057298       3496.0   200.313102    0.117095\n",
              "3     Paid Search      0.152028        554.0    84.223279    0.049213\n",
              "4         Display      0.254765        201.0    51.207791    0.029908\n",
              "5          Social      0.002836        118.0     0.334683    0.000161\n",
              "6      Affiliates      0.005333         14.0     0.074664    0.000009\n",
              "7         (Other)      0.059351          1.0     0.059351    0.000000"
            ],
            "text/html": [
              "<div>\n",
              "<style scoped>\n",
              "    .dataframe tbody tr th:only-of-type {\n",
              "        vertical-align: middle;\n",
              "    }\n",
              "\n",
              "    .dataframe tbody tr th {\n",
              "        vertical-align: top;\n",
              "    }\n",
              "\n",
              "    .dataframe thead th {\n",
              "        text-align: right;\n",
              "    }\n",
              "</style>\n",
              "<table border=\"1\" class=\"dataframe\">\n",
              "  <thead>\n",
              "    <tr style=\"text-align: right;\">\n",
              "      <th></th>\n",
              "      <th>channel</th>\n",
              "      <th>contribution</th>\n",
              "      <th>conversions</th>\n",
              "      <th>score</th>\n",
              "      <th>importance</th>\n",
              "    </tr>\n",
              "  </thead>\n",
              "  <tbody>\n",
              "    <tr>\n",
              "      <th>0</th>\n",
              "      <td>Referral</td>\n",
              "      <td>0.365046</td>\n",
              "      <td>4685.0</td>\n",
              "      <td>1710.239922</td>\n",
              "      <td>1.000000</td>\n",
              "    </tr>\n",
              "    <tr>\n",
              "      <th>1</th>\n",
              "      <td>Direct</td>\n",
              "      <td>0.103343</td>\n",
              "      <td>2223.0</td>\n",
              "      <td>229.732227</td>\n",
              "      <td>0.134297</td>\n",
              "    </tr>\n",
              "    <tr>\n",
              "      <th>2</th>\n",
              "      <td>Organic Search</td>\n",
              "      <td>0.057298</td>\n",
              "      <td>3496.0</td>\n",
              "      <td>200.313102</td>\n",
              "      <td>0.117095</td>\n",
              "    </tr>\n",
              "    <tr>\n",
              "      <th>3</th>\n",
              "      <td>Paid Search</td>\n",
              "      <td>0.152028</td>\n",
              "      <td>554.0</td>\n",
              "      <td>84.223279</td>\n",
              "      <td>0.049213</td>\n",
              "    </tr>\n",
              "    <tr>\n",
              "      <th>4</th>\n",
              "      <td>Display</td>\n",
              "      <td>0.254765</td>\n",
              "      <td>201.0</td>\n",
              "      <td>51.207791</td>\n",
              "      <td>0.029908</td>\n",
              "    </tr>\n",
              "    <tr>\n",
              "      <th>5</th>\n",
              "      <td>Social</td>\n",
              "      <td>0.002836</td>\n",
              "      <td>118.0</td>\n",
              "      <td>0.334683</td>\n",
              "      <td>0.000161</td>\n",
              "    </tr>\n",
              "    <tr>\n",
              "      <th>6</th>\n",
              "      <td>Affiliates</td>\n",
              "      <td>0.005333</td>\n",
              "      <td>14.0</td>\n",
              "      <td>0.074664</td>\n",
              "      <td>0.000009</td>\n",
              "    </tr>\n",
              "    <tr>\n",
              "      <th>7</th>\n",
              "      <td>(Other)</td>\n",
              "      <td>0.059351</td>\n",
              "      <td>1.0</td>\n",
              "      <td>0.059351</td>\n",
              "      <td>0.000000</td>\n",
              "    </tr>\n",
              "  </tbody>\n",
              "</table>\n",
              "</div>"
            ]
          },
          "metadata": {
            "tags": []
          },
          "execution_count": 26
        }
      ]
    },
    {
      "cell_type": "markdown",
      "metadata": {
        "id": "JvSvlYWV4eKc",
        "colab_type": "text"
      },
      "source": [
        "## Visualize the data  "
      ]
    },
    {
      "cell_type": "code",
      "metadata": {
        "id": "7tV3Kzlh4Y_J",
        "colab_type": "code",
        "outputId": "3da4107c-42c9-4733-949a-9677a067dce0",
        "colab": {
          "base_uri": "https://localhost:8080/",
          "height": 513
        }
      },
      "source": [
        "fig, ax = plt.subplots(figsize=(12,8))\n",
        "cmap = plt.cm.get_cmap('tab20')\n",
        "for i,row in results.iterrows():\n",
        "  ax.scatter(\"contribution\", \"conversions\",label=row.channel,\n",
        "             s=row.importance*500, c=cmap(i), data=row)\n",
        "plt.xlabel(\"Contribution Score\")\n",
        "plt.ylabel(\"Conversions\")\n",
        "plt.title(\"Contribution Score by Conversions per Channel\")\n",
        "plt.legend(loc=0)\n",
        "plt.show()"
      ],
      "execution_count": 27,
      "outputs": [
        {
          "output_type": "display_data",
          "data": {
            "image/png": "[encoded data removed]",
            "text/plain": [
              "<Figure size 864x576 with 1 Axes>"
            ]
          },
          "metadata": {
            "tags": [],
            "needs_background": "light"
          }
        }
      ]
    },
    {
      "cell_type": "markdown",
      "metadata": {
        "id": "c44LGjiqt_Wy",
        "colab_type": "text"
      },
      "source": [
        "<h3>Contribution Score over 12 weeks (example):</h3>"
      ]
    },
    {
      "cell_type": "code",
      "metadata": {
        "id": "jqNvxa1HtyQU",
        "colab_type": "code",
        "outputId": "5b10cad4-24ae-4b2d-f13f-f784bce4b548",
        "colab": {
          "base_uri": "https://localhost:8080/",
          "height": 453
        }
      },
      "source": [
        "from IPython.display import YouTubeVideo\n",
        "YouTubeVideo(\"OBZILfAf4xQ\",width=768, height=432)"
      ],
      "execution_count": 28,
      "outputs": [
        {
          "output_type": "execute_result",
          "data": {
            "text/plain": [
              "<IPython.lib.display.YouTubeVideo at 0x7f89686b2310>"
            ],
            "image/jpeg": "[encoded data removed]",
            "text/html": [
              "\n",
              "        <iframe\n",
              "            width=\"768\"\n",
              "            height=\"432\"\n",
              "            src=\"https://www.youtube.com/embed/OBZILfAf4xQ\"\n",
              "            frameborder=\"0\"\n",
              "            allowfullscreen\n",
              "        ></iframe>\n",
              "        "
            ]
          },
          "metadata": {
            "tags": []
          },
          "execution_count": 28
        }
      ]
    },
    {
      "cell_type": "code",
      "metadata": {
        "id": "KxR5VonPt28T",
        "colab_type": "code",
        "colab": {}
      },
      "source": [
        ""
      ],
      "execution_count": 0,
      "outputs": []
    }
  ]
}