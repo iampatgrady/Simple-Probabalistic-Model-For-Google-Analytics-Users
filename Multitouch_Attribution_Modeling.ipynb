{
  "nbformat": 4,
  "nbformat_minor": 0,
  "metadata": {
    "colab": {
      "name": "Multitouch Attribution Modeling.ipynb",
      "version": "0.3.2",
      "provenance": [],
      "toc_visible": true
    },
    "kernelspec": {
      "name": "python2",
      "display_name": "Python 2"
    }
  },
  "cells": [
    {
      "cell_type": "markdown",
      "metadata": {
        "id": "view-in-github",
        "colab_type": "text"
      },
      "source": [
        "[View in Colaboratory](https://colab.research.google.com/github/iampatgrady/Simple-Probabalistic-Model-For-Google-Analytics-Users/blob/master/Multitouch_Attribution_Modeling.ipynb)"
      ]
    },
    {
      "metadata": {
        "id": "97dyiCngzXJR",
        "colab_type": "text"
      },
      "cell_type": "markdown",
      "source": [
        "# Probabilistic Multi-Touch Attribution Model\n",
        "\n",
        "<img src=\"https://storage.googleapis.com/pats-test/images/multi-touch.png\">\n",
        "\n",
        "We will demonstrate how to apply a probabilistic, multi-touch attribution model to your GA data using Python and BigQuery libraries. The procedure in this notebook is based on an article published in 2011 by [Xuhui Shao.](https://www.linkedin.com/in/xuhuishao/) The resulting score helps marketers better understand their channel investments.\n",
        "\n",
        "Big thanks to [Anže Kravanja](https://www.linkedin.com/in/an%C5%BEe-kravanja-54006194/), [Luka Cempre](https://www.linkedin.com/in/luka-cempre-9b5ba71a/), and [Clay Porter](https://www.linkedin.com/in/clayporter1/) for their help in putting this notebook together!\n",
        "\n",
        "Here is the author, [Xuhui Shao](https://www.linkedin.com/in/xuhuishao/), describing the <a href=\"https://www.clickz.com/the-math-behind-multi-touch-attribution/50028/\">math behind the model</a>:  \n",
        "\n",
        "<img src=\"https://storage.googleapis.com/pats-test/images/model.png\">\n",
        ">Let’s say for one converted user, email contributes 15 percent alone and makes other channels such as display and video 20 percent better. The overall contribution of email to this conversion is 35 percent.\n",
        "\n",
        ">The contributions of all the touch points are then normalized to ensure they always add up to 100 percent. In other words, the credit of the conversion is proportionately assigned to each touch point based on its relative contribution in increasing the user’s probability to convert."
      ]
    },
    {
      "metadata": {
        "id": "dOwQBBM6sz-I",
        "colab_type": "code",
        "colab": {}
      },
      "cell_type": "code",
      "source": [
        "import pandas as pd\n",
        "import numpy as np\n",
        "import itertools\n",
        "import urllib2\n",
        "import matplotlib.pylab as plt\n",
        "plt.style.use(\"fivethirtyeight\")"
      ],
      "execution_count": 0,
      "outputs": []
    },
    {
      "metadata": {
        "id": "6iWCFXRK2XRt",
        "colab_type": "text"
      },
      "cell_type": "markdown",
      "source": [
        "## Query GA Data in BigQuery\n",
        "The <a href=\"https://storage.googleapis.com/pats-test/images/multi_touch_attribution.sql?1=1\">multi_touch_attribution.sql</a> SQL is used to format our data in the appropriate schema for our data pipeline.\n",
        "\n",
        "You'll want to download and inspect the SQL, and then upload that file to your local Drive directory below:"
      ]
    },
    {
      "metadata": {
        "id": "mx4M6LWr2s6C",
        "colab_type": "text"
      },
      "cell_type": "markdown",
      "source": [
        "You're ready to execute the query after adding a target table and start and end dates. In our case we're using the BigQuery GA data for Google Merchandize Store.\n"
      ]
    },
    {
      "metadata": {
        "id": "JJDERjTMMdbt",
        "colab_type": "code",
        "colab": {}
      },
      "cell_type": "code",
      "source": [
        "#@title Enter your BigQuery project ID { run: \"auto\", display-mode: \"form\" }\n",
        "project = \"<your billing project id>\" #@param {type:\"string\"}\n",
        "target = \"bigquery-public-data.google_analytics_sample.ga_sessions_*\" #@param {type:\"string\"}\n",
        "start = \"2017-07-26\" #@param {type:\"date\"}\n",
        "end = \"2017-08-01\" #@param {type:\"date\"}\n"
      ],
      "execution_count": 0,
      "outputs": []
    },
    {
      "metadata": {
        "id": "cZH91Fpus_Pv",
        "colab_type": "code",
        "colab": {
          "base_uri": "https://localhost:8080/",
          "height": 221
        },
        "outputId": "08afade5-8937-45ba-fbda-8397c3641afd"
      },
      "cell_type": "code",
      "source": [
        "sql_query = urllib2 \\\n",
        "  .urlopen(\"https://storage.googleapis.com/pats-test/images/multi_touch_attribution.sql\") \\\n",
        "  .read().format(target,start.replace(\"-\",\"\"),end.replace(\"-\",\"\"))\n",
        "\n",
        "ga_data = pd.io.gbq.read_gbq(sql_query,project_id=project,dialect='standard')\n",
        "\n",
        "print ga_data.shape\n",
        "ga_data.sample(5)"
      ],
      "execution_count": 3,
      "outputs": [
        {
          "output_type": "stream",
          "text": [
            "(621092, 3)\n"
          ],
          "name": "stdout"
        },
        {
          "output_type": "execute_result",
          "data": {
            "text/html": [
              "<div>\n",
              "<style scoped>\n",
              "    .dataframe tbody tr th:only-of-type {\n",
              "        vertical-align: middle;\n",
              "    }\n",
              "\n",
              "    .dataframe tbody tr th {\n",
              "        vertical-align: top;\n",
              "    }\n",
              "\n",
              "    .dataframe thead th {\n",
              "        text-align: right;\n",
              "    }\n",
              "</style>\n",
              "<table border=\"1\" class=\"dataframe\">\n",
              "  <thead>\n",
              "    <tr style=\"text-align: right;\">\n",
              "      <th></th>\n",
              "      <th>fullVisitorId</th>\n",
              "      <th>channels</th>\n",
              "      <th>converted</th>\n",
              "    </tr>\n",
              "  </thead>\n",
              "  <tbody>\n",
              "    <tr>\n",
              "      <th>168559</th>\n",
              "      <td>3251858829536411039</td>\n",
              "      <td>[Direct]</td>\n",
              "      <td>0</td>\n",
              "    </tr>\n",
              "    <tr>\n",
              "      <th>360830</th>\n",
              "      <td>5819619617453659427</td>\n",
              "      <td>[Paid Search]</td>\n",
              "      <td>0</td>\n",
              "    </tr>\n",
              "    <tr>\n",
              "      <th>441701</th>\n",
              "      <td>6904261888040777699</td>\n",
              "      <td>[Organic Search]</td>\n",
              "      <td>0</td>\n",
              "    </tr>\n",
              "    <tr>\n",
              "      <th>23030</th>\n",
              "      <td>1306699314050459983</td>\n",
              "      <td>[Direct]</td>\n",
              "      <td>0</td>\n",
              "    </tr>\n",
              "    <tr>\n",
              "      <th>260985</th>\n",
              "      <td>4491917223349644183</td>\n",
              "      <td>[Paid Search]</td>\n",
              "      <td>0</td>\n",
              "    </tr>\n",
              "  </tbody>\n",
              "</table>\n",
              "</div>"
            ],
            "text/plain": [
              "              fullVisitorId          channels  converted\n",
              "168559  3251858829536411039          [Direct]          0\n",
              "360830  5819619617453659427     [Paid Search]          0\n",
              "441701  6904261888040777699  [Organic Search]          0\n",
              "23030   1306699314050459983          [Direct]          0\n",
              "260985  4491917223349644183     [Paid Search]          0"
            ]
          },
          "metadata": {
            "tags": []
          },
          "execution_count": 3
        }
      ]
    },
    {
      "metadata": {
        "id": "YrD-pq3P195-",
        "colab_type": "text"
      },
      "cell_type": "markdown",
      "source": [
        "## Individual Channel Probability\n",
        "\n",
        "<img src=\"https://storage.googleapis.com/pats-test/images/channel_probability.jpg\">  \n",
        "\n",
        "    P(y|xi) = positives / positives + negatives = conversions / users = channel conversion rate  \n"
      ]
    },
    {
      "metadata": {
        "id": "EgwqXCQ3tgM5",
        "colab_type": "code",
        "colab": {
          "base_uri": "https://localhost:8080/",
          "height": 359
        },
        "outputId": "30ed84f6-6f03-4d2a-a789-28262642baf4"
      },
      "cell_type": "code",
      "source": [
        "channel_metrics_map = {}  \n",
        "\n",
        "for user in ga_data.to_records(): # much faster than iterrows()\n",
        "    \n",
        "    for channel in user[\"channels\"]:\n",
        "        \n",
        "        if not channel in channel_metrics_map:\n",
        "            channel_metrics_map[channel] = { \"conversions\": 0.0, \"users\": 0.0 }\n",
        "            \n",
        "        channel_metrics_map[channel][\"conversions\"] += float(user[\"converted\"])\n",
        "        channel_metrics_map[channel][\"users\"] += 1.0 \n",
        "\n",
        "pd.DataFrame(channel_metrics_map).transpose().sort_values(by='conversions',ascending=False)"
      ],
      "execution_count": 4,
      "outputs": [
        {
          "output_type": "execute_result",
          "data": {
            "text/html": [
              "<div>\n",
              "<style scoped>\n",
              "    .dataframe tbody tr th:only-of-type {\n",
              "        vertical-align: middle;\n",
              "    }\n",
              "\n",
              "    .dataframe tbody tr th {\n",
              "        vertical-align: top;\n",
              "    }\n",
              "\n",
              "    .dataframe thead th {\n",
              "        text-align: right;\n",
              "    }\n",
              "</style>\n",
              "<table border=\"1\" class=\"dataframe\">\n",
              "  <thead>\n",
              "    <tr style=\"text-align: right;\">\n",
              "      <th></th>\n",
              "      <th>conversions</th>\n",
              "      <th>users</th>\n",
              "    </tr>\n",
              "  </thead>\n",
              "  <tbody>\n",
              "    <tr>\n",
              "      <th>Paid Search</th>\n",
              "      <td>12958.0</td>\n",
              "      <td>172123.0</td>\n",
              "    </tr>\n",
              "    <tr>\n",
              "      <th>Organic Search</th>\n",
              "      <td>9877.0</td>\n",
              "      <td>156753.0</td>\n",
              "    </tr>\n",
              "    <tr>\n",
              "      <th>Direct</th>\n",
              "      <td>7670.0</td>\n",
              "      <td>122845.0</td>\n",
              "    </tr>\n",
              "    <tr>\n",
              "      <th>Email</th>\n",
              "      <td>7663.0</td>\n",
              "      <td>106072.0</td>\n",
              "    </tr>\n",
              "    <tr>\n",
              "      <th>Affiliates</th>\n",
              "      <td>2549.0</td>\n",
              "      <td>12839.0</td>\n",
              "    </tr>\n",
              "    <tr>\n",
              "      <th>Referral</th>\n",
              "      <td>2418.0</td>\n",
              "      <td>31843.0</td>\n",
              "    </tr>\n",
              "    <tr>\n",
              "      <th>Display</th>\n",
              "      <td>422.0</td>\n",
              "      <td>25238.0</td>\n",
              "    </tr>\n",
              "    <tr>\n",
              "      <th>Paid Social</th>\n",
              "      <td>339.0</td>\n",
              "      <td>42367.0</td>\n",
              "    </tr>\n",
              "    <tr>\n",
              "      <th>Organic Social</th>\n",
              "      <td>57.0</td>\n",
              "      <td>2982.0</td>\n",
              "    </tr>\n",
              "    <tr>\n",
              "      <th>(Other)</th>\n",
              "      <td>20.0</td>\n",
              "      <td>261.0</td>\n",
              "    </tr>\n",
              "  </tbody>\n",
              "</table>\n",
              "</div>"
            ],
            "text/plain": [
              "                conversions     users\n",
              "Paid Search         12958.0  172123.0\n",
              "Organic Search       9877.0  156753.0\n",
              "Direct               7670.0  122845.0\n",
              "Email                7663.0  106072.0\n",
              "Affiliates           2549.0   12839.0\n",
              "Referral             2418.0   31843.0\n",
              "Display               422.0   25238.0\n",
              "Paid Social           339.0   42367.0\n",
              "Organic Social         57.0    2982.0\n",
              "(Other)                20.0     261.0"
            ]
          },
          "metadata": {
            "tags": []
          },
          "execution_count": 4
        }
      ]
    },
    {
      "metadata": {
        "id": "_fqLU-7Y2Dl_",
        "colab_type": "text"
      },
      "cell_type": "markdown",
      "source": [
        "## Pairwise Channel Probabilities\n",
        "\n",
        "<img src=\"https://storage.googleapis.com/pats-test/images/pairwise_probability.png\">"
      ]
    },
    {
      "metadata": {
        "id": "0fSPMKRfxGE8",
        "colab_type": "code",
        "colab": {
          "base_uri": "https://localhost:8080/",
          "height": 359
        },
        "outputId": "d0a53f09-d251-46d0-a879-5f217e9d6692"
      },
      "cell_type": "code",
      "source": [
        "channel_metrics = channel_metrics_map.copy()\n",
        "\n",
        "for xi,xj in itertools.combinations(channel_metrics.keys(), 2):\n",
        "    \n",
        "    key = \"{}|{}\".format(xi, xj)\n",
        "    \n",
        "    for user in ga_data.loc[ga_data.channels.map(lambda c: ((xi in c) & (xj in c))) == True].to_records():\n",
        "         \n",
        "        if not key in channel_metrics: \n",
        "            channel_metrics[key] = { \"conversions\": 0.0, \"users\": 0.0 }\n",
        "\n",
        "        channel_metrics[key][\"conversions\"] += float(user[3]) \n",
        "        channel_metrics[key][\"users\"] += 1.0 \n",
        "\n",
        "pd.DataFrame(channel_metrics).transpose().sort_values(by='conversions', ascending=False) \\\n",
        "    .reset_index().rename(columns={'index':'channels'})[:10]"
      ],
      "execution_count": 5,
      "outputs": [
        {
          "output_type": "execute_result",
          "data": {
            "text/html": [
              "<div>\n",
              "<style scoped>\n",
              "    .dataframe tbody tr th:only-of-type {\n",
              "        vertical-align: middle;\n",
              "    }\n",
              "\n",
              "    .dataframe tbody tr th {\n",
              "        vertical-align: top;\n",
              "    }\n",
              "\n",
              "    .dataframe thead th {\n",
              "        text-align: right;\n",
              "    }\n",
              "</style>\n",
              "<table border=\"1\" class=\"dataframe\">\n",
              "  <thead>\n",
              "    <tr style=\"text-align: right;\">\n",
              "      <th></th>\n",
              "      <th>channels</th>\n",
              "      <th>conversions</th>\n",
              "      <th>users</th>\n",
              "    </tr>\n",
              "  </thead>\n",
              "  <tbody>\n",
              "    <tr>\n",
              "      <th>0</th>\n",
              "      <td>Paid Search</td>\n",
              "      <td>12958.0</td>\n",
              "      <td>172123.0</td>\n",
              "    </tr>\n",
              "    <tr>\n",
              "      <th>1</th>\n",
              "      <td>Organic Search</td>\n",
              "      <td>9877.0</td>\n",
              "      <td>156753.0</td>\n",
              "    </tr>\n",
              "    <tr>\n",
              "      <th>2</th>\n",
              "      <td>Direct</td>\n",
              "      <td>7670.0</td>\n",
              "      <td>122845.0</td>\n",
              "    </tr>\n",
              "    <tr>\n",
              "      <th>3</th>\n",
              "      <td>Email</td>\n",
              "      <td>7663.0</td>\n",
              "      <td>106072.0</td>\n",
              "    </tr>\n",
              "    <tr>\n",
              "      <th>4</th>\n",
              "      <td>Affiliates</td>\n",
              "      <td>2549.0</td>\n",
              "      <td>12839.0</td>\n",
              "    </tr>\n",
              "    <tr>\n",
              "      <th>5</th>\n",
              "      <td>Referral</td>\n",
              "      <td>2418.0</td>\n",
              "      <td>31843.0</td>\n",
              "    </tr>\n",
              "    <tr>\n",
              "      <th>6</th>\n",
              "      <td>Paid Search|Organic Search</td>\n",
              "      <td>1554.0</td>\n",
              "      <td>17387.0</td>\n",
              "    </tr>\n",
              "    <tr>\n",
              "      <th>7</th>\n",
              "      <td>Paid Search|Email</td>\n",
              "      <td>1550.0</td>\n",
              "      <td>5351.0</td>\n",
              "    </tr>\n",
              "    <tr>\n",
              "      <th>8</th>\n",
              "      <td>Email|Organic Search</td>\n",
              "      <td>1181.0</td>\n",
              "      <td>4791.0</td>\n",
              "    </tr>\n",
              "    <tr>\n",
              "      <th>9</th>\n",
              "      <td>Paid Search|Affiliates</td>\n",
              "      <td>1072.0</td>\n",
              "      <td>2674.0</td>\n",
              "    </tr>\n",
              "  </tbody>\n",
              "</table>\n",
              "</div>"
            ],
            "text/plain": [
              "                     channels  conversions     users\n",
              "0                 Paid Search      12958.0  172123.0\n",
              "1              Organic Search       9877.0  156753.0\n",
              "2                      Direct       7670.0  122845.0\n",
              "3                       Email       7663.0  106072.0\n",
              "4                  Affiliates       2549.0   12839.0\n",
              "5                    Referral       2418.0   31843.0\n",
              "6  Paid Search|Organic Search       1554.0   17387.0\n",
              "7           Paid Search|Email       1550.0    5351.0\n",
              "8        Email|Organic Search       1181.0    4791.0\n",
              "9      Paid Search|Affiliates       1072.0    2674.0"
            ]
          },
          "metadata": {
            "tags": []
          },
          "execution_count": 5
        }
      ]
    },
    {
      "metadata": {
        "id": "_k6lMU9_4ESh",
        "colab_type": "text"
      },
      "cell_type": "markdown",
      "source": [
        "### Add calculated field: `Conversion Rate`"
      ]
    },
    {
      "metadata": {
        "id": "UJ0zTqUhySNJ",
        "colab_type": "code",
        "colab": {
          "base_uri": "https://localhost:8080/",
          "height": 359
        },
        "outputId": "4e958863-79ab-4835-8049-1aade3e61d86"
      },
      "cell_type": "code",
      "source": [
        "for key in channel_metrics:\n",
        "    channel_metrics[key][\"conversion rate\"] = np.divide(\n",
        "        channel_metrics[key][\"conversions\"] , \n",
        "        channel_metrics[key][\"users\"]\n",
        "    )\n",
        "\n",
        "pd.DataFrame(channel_metrics).transpose().sort_values(by='conversions', ascending=False) \\\n",
        "    .reset_index().rename(columns={'index':'channels'})[:10]"
      ],
      "execution_count": 6,
      "outputs": [
        {
          "output_type": "execute_result",
          "data": {
            "text/html": [
              "<div>\n",
              "<style scoped>\n",
              "    .dataframe tbody tr th:only-of-type {\n",
              "        vertical-align: middle;\n",
              "    }\n",
              "\n",
              "    .dataframe tbody tr th {\n",
              "        vertical-align: top;\n",
              "    }\n",
              "\n",
              "    .dataframe thead th {\n",
              "        text-align: right;\n",
              "    }\n",
              "</style>\n",
              "<table border=\"1\" class=\"dataframe\">\n",
              "  <thead>\n",
              "    <tr style=\"text-align: right;\">\n",
              "      <th></th>\n",
              "      <th>channels</th>\n",
              "      <th>conversion rate</th>\n",
              "      <th>conversions</th>\n",
              "      <th>users</th>\n",
              "    </tr>\n",
              "  </thead>\n",
              "  <tbody>\n",
              "    <tr>\n",
              "      <th>0</th>\n",
              "      <td>Paid Search</td>\n",
              "      <td>0.075283</td>\n",
              "      <td>12958.0</td>\n",
              "      <td>172123.0</td>\n",
              "    </tr>\n",
              "    <tr>\n",
              "      <th>1</th>\n",
              "      <td>Organic Search</td>\n",
              "      <td>0.063010</td>\n",
              "      <td>9877.0</td>\n",
              "      <td>156753.0</td>\n",
              "    </tr>\n",
              "    <tr>\n",
              "      <th>2</th>\n",
              "      <td>Direct</td>\n",
              "      <td>0.062436</td>\n",
              "      <td>7670.0</td>\n",
              "      <td>122845.0</td>\n",
              "    </tr>\n",
              "    <tr>\n",
              "      <th>3</th>\n",
              "      <td>Email</td>\n",
              "      <td>0.072243</td>\n",
              "      <td>7663.0</td>\n",
              "      <td>106072.0</td>\n",
              "    </tr>\n",
              "    <tr>\n",
              "      <th>4</th>\n",
              "      <td>Affiliates</td>\n",
              "      <td>0.198536</td>\n",
              "      <td>2549.0</td>\n",
              "      <td>12839.0</td>\n",
              "    </tr>\n",
              "    <tr>\n",
              "      <th>5</th>\n",
              "      <td>Referral</td>\n",
              "      <td>0.075935</td>\n",
              "      <td>2418.0</td>\n",
              "      <td>31843.0</td>\n",
              "    </tr>\n",
              "    <tr>\n",
              "      <th>6</th>\n",
              "      <td>Paid Search|Organic Search</td>\n",
              "      <td>0.089377</td>\n",
              "      <td>1554.0</td>\n",
              "      <td>17387.0</td>\n",
              "    </tr>\n",
              "    <tr>\n",
              "      <th>7</th>\n",
              "      <td>Paid Search|Email</td>\n",
              "      <td>0.289665</td>\n",
              "      <td>1550.0</td>\n",
              "      <td>5351.0</td>\n",
              "    </tr>\n",
              "    <tr>\n",
              "      <th>8</th>\n",
              "      <td>Email|Organic Search</td>\n",
              "      <td>0.246504</td>\n",
              "      <td>1181.0</td>\n",
              "      <td>4791.0</td>\n",
              "    </tr>\n",
              "    <tr>\n",
              "      <th>9</th>\n",
              "      <td>Paid Search|Affiliates</td>\n",
              "      <td>0.400898</td>\n",
              "      <td>1072.0</td>\n",
              "      <td>2674.0</td>\n",
              "    </tr>\n",
              "  </tbody>\n",
              "</table>\n",
              "</div>"
            ],
            "text/plain": [
              "                     channels  conversion rate  conversions     users\n",
              "0                 Paid Search         0.075283      12958.0  172123.0\n",
              "1              Organic Search         0.063010       9877.0  156753.0\n",
              "2                      Direct         0.062436       7670.0  122845.0\n",
              "3                       Email         0.072243       7663.0  106072.0\n",
              "4                  Affiliates         0.198536       2549.0   12839.0\n",
              "5                    Referral         0.075935       2418.0   31843.0\n",
              "6  Paid Search|Organic Search         0.089377       1554.0   17387.0\n",
              "7           Paid Search|Email         0.289665       1550.0    5351.0\n",
              "8        Email|Organic Search         0.246504       1181.0    4791.0\n",
              "9      Paid Search|Affiliates         0.400898       1072.0    2674.0"
            ]
          },
          "metadata": {
            "tags": []
          },
          "execution_count": 6
        }
      ]
    },
    {
      "metadata": {
        "id": "u_ueLjzj4JL7",
        "colab_type": "text"
      },
      "cell_type": "markdown",
      "source": [
        "## Simple Multi-Touch Probabilistic Model\n",
        "<img src=\"https://storage.googleapis.com/pats-test/images/model.png\">"
      ]
    },
    {
      "metadata": {
        "id": "UCTMXO8Vz0E9",
        "colab_type": "code",
        "colab": {
          "base_uri": "https://localhost:8080/",
          "height": 359
        },
        "outputId": "2840ff42-d69d-4a51-bbf3-c92da28ae5dc"
      },
      "cell_type": "code",
      "source": [
        "channels = [ c for c in channel_metrics.keys() if not \"|\" in c ]\n",
        "channel_contrib = {} \n",
        "\n",
        "for channel in channels:\n",
        "    \n",
        "    p_xi = channel_metrics[channel][\"conversion rate\"]\n",
        "    \n",
        "    combinations = [ c for c in channel_metrics.keys() if channel in c and \"|\" in c ] \n",
        "    n = np.divide(1.0 , float(2 * len(combinations)))\n",
        "    \n",
        "    sum_part = []\n",
        "    \n",
        "    for combination in combinations:\n",
        "        \n",
        "        xi_xj = channel_metrics[combination][\"conversion rate\"]\n",
        "                                             \n",
        "        xi = channel_metrics[ combination.split(\"|\")[0] ][\"conversion rate\"]\n",
        "        xj = channel_metrics[ combination.split(\"|\")[1] ][\"conversion rate\"]\n",
        "                                             \n",
        "        sum_part.append(xi_xj - xi - xj)\n",
        "    \n",
        "    s = np.sum(sum_part)\n",
        "    channel_contrib[channel] = p_xi + n * (s if s > 0 else 0)\n",
        "\n",
        "pd.DataFrame([channel_contrib]).transpose()"
      ],
      "execution_count": 7,
      "outputs": [
        {
          "output_type": "execute_result",
          "data": {
            "text/html": [
              "<div>\n",
              "<style scoped>\n",
              "    .dataframe tbody tr th:only-of-type {\n",
              "        vertical-align: middle;\n",
              "    }\n",
              "\n",
              "    .dataframe tbody tr th {\n",
              "        vertical-align: top;\n",
              "    }\n",
              "\n",
              "    .dataframe thead th {\n",
              "        text-align: right;\n",
              "    }\n",
              "</style>\n",
              "<table border=\"1\" class=\"dataframe\">\n",
              "  <thead>\n",
              "    <tr style=\"text-align: right;\">\n",
              "      <th></th>\n",
              "      <th>0</th>\n",
              "    </tr>\n",
              "  </thead>\n",
              "  <tbody>\n",
              "    <tr>\n",
              "      <th>(Other)</th>\n",
              "      <td>0.076628</td>\n",
              "    </tr>\n",
              "    <tr>\n",
              "      <th>Affiliates</th>\n",
              "      <td>0.240307</td>\n",
              "    </tr>\n",
              "    <tr>\n",
              "      <th>Direct</th>\n",
              "      <td>0.105974</td>\n",
              "    </tr>\n",
              "    <tr>\n",
              "      <th>Display</th>\n",
              "      <td>0.016721</td>\n",
              "    </tr>\n",
              "    <tr>\n",
              "      <th>Email</th>\n",
              "      <td>0.137088</td>\n",
              "    </tr>\n",
              "    <tr>\n",
              "      <th>Organic Search</th>\n",
              "      <td>0.075060</td>\n",
              "    </tr>\n",
              "    <tr>\n",
              "      <th>Organic Social</th>\n",
              "      <td>0.024955</td>\n",
              "    </tr>\n",
              "    <tr>\n",
              "      <th>Paid Search</th>\n",
              "      <td>0.088779</td>\n",
              "    </tr>\n",
              "    <tr>\n",
              "      <th>Paid Social</th>\n",
              "      <td>0.008002</td>\n",
              "    </tr>\n",
              "    <tr>\n",
              "      <th>Referral</th>\n",
              "      <td>0.131691</td>\n",
              "    </tr>\n",
              "  </tbody>\n",
              "</table>\n",
              "</div>"
            ],
            "text/plain": [
              "                       0\n",
              "(Other)         0.076628\n",
              "Affiliates      0.240307\n",
              "Direct          0.105974\n",
              "Display         0.016721\n",
              "Email           0.137088\n",
              "Organic Search  0.075060\n",
              "Organic Social  0.024955\n",
              "Paid Search     0.088779\n",
              "Paid Social     0.008002\n",
              "Referral        0.131691"
            ]
          },
          "metadata": {
            "tags": []
          },
          "execution_count": 7
        }
      ]
    },
    {
      "metadata": {
        "id": "JYb-_gqy4QQR",
        "colab_type": "text"
      },
      "cell_type": "markdown",
      "source": [
        "### Covert to `% of Total`, column sums to 1"
      ]
    },
    {
      "metadata": {
        "id": "YxgG9gzu4Q6d",
        "colab_type": "code",
        "colab": {
          "base_uri": "https://localhost:8080/",
          "height": 376
        },
        "outputId": "41f4fec1-6572-4d09-8d5f-c0491a8e3ead"
      },
      "cell_type": "code",
      "source": [
        "c_sum = np.sum([ channel_contrib[ch] for ch in channel_contrib.keys() ])\n",
        "for key in channel_contrib.keys():\n",
        "    channel_contrib[key] /= c_sum\n",
        "    \n",
        "results = pd.DataFrame(channel_contrib.items())\n",
        "results.columns=['channel','contribution']\n",
        "print \"The contribution column sums to {}\".format(sum(results[\"contribution\"]))\n",
        "results.sort_values(by='contribution',ascending=False).reset_index(drop=True)"
      ],
      "execution_count": 8,
      "outputs": [
        {
          "output_type": "stream",
          "text": [
            "The contribution column sums to 1.0\n"
          ],
          "name": "stdout"
        },
        {
          "output_type": "execute_result",
          "data": {
            "text/html": [
              "<div>\n",
              "<style scoped>\n",
              "    .dataframe tbody tr th:only-of-type {\n",
              "        vertical-align: middle;\n",
              "    }\n",
              "\n",
              "    .dataframe tbody tr th {\n",
              "        vertical-align: top;\n",
              "    }\n",
              "\n",
              "    .dataframe thead th {\n",
              "        text-align: right;\n",
              "    }\n",
              "</style>\n",
              "<table border=\"1\" class=\"dataframe\">\n",
              "  <thead>\n",
              "    <tr style=\"text-align: right;\">\n",
              "      <th></th>\n",
              "      <th>channel</th>\n",
              "      <th>contribution</th>\n",
              "    </tr>\n",
              "  </thead>\n",
              "  <tbody>\n",
              "    <tr>\n",
              "      <th>0</th>\n",
              "      <td>Affiliates</td>\n",
              "      <td>0.265472</td>\n",
              "    </tr>\n",
              "    <tr>\n",
              "      <th>1</th>\n",
              "      <td>Email</td>\n",
              "      <td>0.151444</td>\n",
              "    </tr>\n",
              "    <tr>\n",
              "      <th>2</th>\n",
              "      <td>Referral</td>\n",
              "      <td>0.145482</td>\n",
              "    </tr>\n",
              "    <tr>\n",
              "      <th>3</th>\n",
              "      <td>Direct</td>\n",
              "      <td>0.117071</td>\n",
              "    </tr>\n",
              "    <tr>\n",
              "      <th>4</th>\n",
              "      <td>Paid Search</td>\n",
              "      <td>0.098076</td>\n",
              "    </tr>\n",
              "    <tr>\n",
              "      <th>5</th>\n",
              "      <td>(Other)</td>\n",
              "      <td>0.084653</td>\n",
              "    </tr>\n",
              "    <tr>\n",
              "      <th>6</th>\n",
              "      <td>Organic Search</td>\n",
              "      <td>0.082921</td>\n",
              "    </tr>\n",
              "    <tr>\n",
              "      <th>7</th>\n",
              "      <td>Organic Social</td>\n",
              "      <td>0.027569</td>\n",
              "    </tr>\n",
              "    <tr>\n",
              "      <th>8</th>\n",
              "      <td>Display</td>\n",
              "      <td>0.018472</td>\n",
              "    </tr>\n",
              "    <tr>\n",
              "      <th>9</th>\n",
              "      <td>Paid Social</td>\n",
              "      <td>0.008839</td>\n",
              "    </tr>\n",
              "  </tbody>\n",
              "</table>\n",
              "</div>"
            ],
            "text/plain": [
              "          channel  contribution\n",
              "0      Affiliates      0.265472\n",
              "1           Email      0.151444\n",
              "2        Referral      0.145482\n",
              "3          Direct      0.117071\n",
              "4     Paid Search      0.098076\n",
              "5         (Other)      0.084653\n",
              "6  Organic Search      0.082921\n",
              "7  Organic Social      0.027569\n",
              "8         Display      0.018472\n",
              "9     Paid Social      0.008839"
            ]
          },
          "metadata": {
            "tags": []
          },
          "execution_count": 8
        }
      ]
    },
    {
      "metadata": {
        "id": "CUzq71g94Xg7",
        "colab_type": "text"
      },
      "cell_type": "markdown",
      "source": [
        "### Add context by creating weighted fields"
      ]
    },
    {
      "metadata": {
        "id": "st5R-ugD4VA3",
        "colab_type": "code",
        "colab": {
          "base_uri": "https://localhost:8080/",
          "height": 359
        },
        "outputId": "e13531a9-4c93-4c1b-b35c-06583b0322b1"
      },
      "cell_type": "code",
      "source": [
        "results[\"conversions\"] = results.channel.map(lambda x: channel_metrics[x][\"conversions\"])\n",
        "\n",
        "results[\"score\"] = results[\"conversions\"] * results[\"contribution\"]\n",
        "\n",
        "results['importance'] = np.divide(\n",
        "    results['score']-results['score'].min() , \n",
        "    results['score'].max()-results['score'].min()\n",
        ")\n",
        "\n",
        "results = results.sort_values('importance',ascending=False).fillna(0).reset_index(drop=True)\n",
        "results"
      ],
      "execution_count": 9,
      "outputs": [
        {
          "output_type": "execute_result",
          "data": {
            "text/html": [
              "<div>\n",
              "<style scoped>\n",
              "    .dataframe tbody tr th:only-of-type {\n",
              "        vertical-align: middle;\n",
              "    }\n",
              "\n",
              "    .dataframe tbody tr th {\n",
              "        vertical-align: top;\n",
              "    }\n",
              "\n",
              "    .dataframe thead th {\n",
              "        text-align: right;\n",
              "    }\n",
              "</style>\n",
              "<table border=\"1\" class=\"dataframe\">\n",
              "  <thead>\n",
              "    <tr style=\"text-align: right;\">\n",
              "      <th></th>\n",
              "      <th>channel</th>\n",
              "      <th>contribution</th>\n",
              "      <th>conversions</th>\n",
              "      <th>score</th>\n",
              "      <th>importance</th>\n",
              "    </tr>\n",
              "  </thead>\n",
              "  <tbody>\n",
              "    <tr>\n",
              "      <th>0</th>\n",
              "      <td>Paid Search</td>\n",
              "      <td>0.098076</td>\n",
              "      <td>12958.0</td>\n",
              "      <td>1270.864317</td>\n",
              "      <td>1.000000</td>\n",
              "    </tr>\n",
              "    <tr>\n",
              "      <th>1</th>\n",
              "      <td>Email</td>\n",
              "      <td>0.151444</td>\n",
              "      <td>7663.0</td>\n",
              "      <td>1160.518992</td>\n",
              "      <td>0.913066</td>\n",
              "    </tr>\n",
              "    <tr>\n",
              "      <th>2</th>\n",
              "      <td>Direct</td>\n",
              "      <td>0.117071</td>\n",
              "      <td>7670.0</td>\n",
              "      <td>897.937009</td>\n",
              "      <td>0.706193</td>\n",
              "    </tr>\n",
              "    <tr>\n",
              "      <th>3</th>\n",
              "      <td>Organic Search</td>\n",
              "      <td>0.082921</td>\n",
              "      <td>9877.0</td>\n",
              "      <td>819.010442</td>\n",
              "      <td>0.644011</td>\n",
              "    </tr>\n",
              "    <tr>\n",
              "      <th>4</th>\n",
              "      <td>Affiliates</td>\n",
              "      <td>0.265472</td>\n",
              "      <td>2549.0</td>\n",
              "      <td>676.688176</td>\n",
              "      <td>0.531884</td>\n",
              "    </tr>\n",
              "    <tr>\n",
              "      <th>5</th>\n",
              "      <td>Referral</td>\n",
              "      <td>0.145482</td>\n",
              "      <td>2418.0</td>\n",
              "      <td>351.776553</td>\n",
              "      <td>0.275906</td>\n",
              "    </tr>\n",
              "    <tr>\n",
              "      <th>6</th>\n",
              "      <td>Display</td>\n",
              "      <td>0.018472</td>\n",
              "      <td>422.0</td>\n",
              "      <td>7.795127</td>\n",
              "      <td>0.004903</td>\n",
              "    </tr>\n",
              "    <tr>\n",
              "      <th>7</th>\n",
              "      <td>Paid Social</td>\n",
              "      <td>0.008839</td>\n",
              "      <td>339.0</td>\n",
              "      <td>2.996573</td>\n",
              "      <td>0.001123</td>\n",
              "    </tr>\n",
              "    <tr>\n",
              "      <th>8</th>\n",
              "      <td>(Other)</td>\n",
              "      <td>0.084653</td>\n",
              "      <td>20.0</td>\n",
              "      <td>1.693061</td>\n",
              "      <td>0.000096</td>\n",
              "    </tr>\n",
              "    <tr>\n",
              "      <th>9</th>\n",
              "      <td>Organic Social</td>\n",
              "      <td>0.027569</td>\n",
              "      <td>57.0</td>\n",
              "      <td>1.571418</td>\n",
              "      <td>0.000000</td>\n",
              "    </tr>\n",
              "  </tbody>\n",
              "</table>\n",
              "</div>"
            ],
            "text/plain": [
              "          channel  contribution  conversions        score  importance\n",
              "0     Paid Search      0.098076      12958.0  1270.864317    1.000000\n",
              "1           Email      0.151444       7663.0  1160.518992    0.913066\n",
              "2          Direct      0.117071       7670.0   897.937009    0.706193\n",
              "3  Organic Search      0.082921       9877.0   819.010442    0.644011\n",
              "4      Affiliates      0.265472       2549.0   676.688176    0.531884\n",
              "5        Referral      0.145482       2418.0   351.776553    0.275906\n",
              "6         Display      0.018472        422.0     7.795127    0.004903\n",
              "7     Paid Social      0.008839        339.0     2.996573    0.001123\n",
              "8         (Other)      0.084653         20.0     1.693061    0.000096\n",
              "9  Organic Social      0.027569         57.0     1.571418    0.000000"
            ]
          },
          "metadata": {
            "tags": []
          },
          "execution_count": 9
        }
      ]
    },
    {
      "metadata": {
        "id": "JvSvlYWV4eKc",
        "colab_type": "text"
      },
      "cell_type": "markdown",
      "source": [
        "## Visualize the data  "
      ]
    },
    {
      "metadata": {
        "id": "7tV3Kzlh4Y_J",
        "colab_type": "code",
        "colab": {
          "base_uri": "https://localhost:8080/",
          "height": 409
        },
        "outputId": "676576ea-b63f-4728-ed61-7caa8aec64fb"
      },
      "cell_type": "code",
      "source": [
        "fig, ax = plt.subplots()\n",
        "cmap = plt.cm.get_cmap('tab20')\n",
        "for i,row in results.iterrows():\n",
        "  ax.scatter(\"contribution\", \"conversions\",label=row.channel,\n",
        "             s=row.importance*500, c=cmap(i), data=row)\n",
        "plt.xlabel(\"Contribution Score\")\n",
        "plt.ylabel(\"Conversions\")\n",
        "plt.title(\"Contribution Score by Conversions per Channel\")\n",
        "plt.legend(loc=0)\n",
        "plt.show()"
      ],
      "execution_count": 10,
      "outputs": [
        {
          "output_type": "display_data",
          "data": {
            "image/png": "[encoded data removed]",
            "text/plain": [
              "<matplotlib.figure.Figure at 0x7f3c59a5e510>"
            ]
          },
          "metadata": {
            "tags": []
          }
        }
      ]
    },
    {
      "metadata": {
        "id": "c44LGjiqt_Wy",
        "colab_type": "text"
      },
      "cell_type": "markdown",
      "source": [
        "<h3>Contribution Score over 12 weeks (example):</h3>"
      ]
    },
    {
      "metadata": {
        "id": "jqNvxa1HtyQU",
        "colab_type": "code",
        "colab": {
          "base_uri": "https://localhost:8080/",
          "height": 453
        },
        "outputId": "f3fb0c6f-a448-40c2-d35b-45d6b09b27da"
      },
      "cell_type": "code",
      "source": [
        "from IPython.display import YouTubeVideo\n",
        "YouTubeVideo(\"OBZILfAf4xQ\",width=768, height=432)"
      ],
      "execution_count": 18,
      "outputs": [
        {
          "output_type": "execute_result",
          "data": {
            "text/html": [
              "\n",
              "        <iframe\n",
              "            width=\"768\"\n",
              "            height=\"432\"\n",
              "            src=\"https://www.youtube.com/embed/OBZILfAf4xQ\"\n",
              "            frameborder=\"0\"\n",
              "            allowfullscreen\n",
              "        ></iframe>\n",
              "        "
            ],
            "image/jpeg": "[encoded data removed]",
            "text/plain": [
              "<IPython.lib.display.YouTubeVideo at 0x7f3c6fdfc350>"
            ]
          },
          "metadata": {
            "tags": []
          },
          "execution_count": 18
        }
      ]
    },
    {
      "metadata": {
        "id": "KxR5VonPt28T",
        "colab_type": "code",
        "colab": {}
      },
      "cell_type": "code",
      "source": [
        ""
      ],
      "execution_count": 0,
      "outputs": []
    }
  ]
}