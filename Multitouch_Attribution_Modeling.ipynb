{
  "nbformat": 4,
  "nbformat_minor": 0,
  "metadata": {
    "colab": {
      "name": "Multitouch Attribution Modeling.ipynb",
      "version": "0.3.2",
      "provenance": [],
      "toc_visible": true
    },
    "kernelspec": {
      "name": "python2",
      "display_name": "Python 2"
    }
  },
  "cells": [
    {
      "cell_type": "markdown",
      "metadata": {
        "id": "view-in-github",
        "colab_type": "text"
      },
      "source": [
        "[View in Colaboratory](https://colab.research.google.com/github/iampatgrady/Simple-Probabalistic-Model-For-Google-Analytics-Users/blob/master/Multitouch_Attribution_Modeling.ipynb)"
      ]
    },
    {
      "metadata": {
        "id": "97dyiCngzXJR",
        "colab_type": "text"
      },
      "cell_type": "markdown",
      "source": [
        "# Probabilistic Multi-Touch Attribution Model\n",
        "\n",
        "<img src=\"https://storage.googleapis.com/pats-test/images/multi-touch.png\">\n",
        "\n",
        "We will demonstrate how to apply a probabilistic, multi-touch attribution model to your GA data using Python and BigQuery libraries. The procedure in this notebook is based on an article published in 2011 by [Xuhui Shao.](https://www.linkedin.com/in/xuhuishao/) The resulting score helps marketers better understand their channel investments.\n",
        "\n",
        "Big thanks to [Anže Kravanja](https://www.linkedin.com/in/an%C5%BEe-kravanja-54006194/), [Luka Cempre](https://www.linkedin.com/in/luka-cempre-9b5ba71a/), and [Clay Porter](https://www.linkedin.com/in/clayporter1/) for their help in putting this notebook together!\n",
        "\n",
        "Here is the author, [Xuhui Shao](https://www.linkedin.com/in/xuhuishao/), describing the <a href=\"https://www.clickz.com/the-math-behind-multi-touch-attribution/50028/\">math behind the model</a>:  \n",
        "\n",
        "<img src=\"https://storage.googleapis.com/pats-test/images/model.png\">\n",
        ">Let’s say for one converted user, email contributes 15 percent alone and makes other channels such as display and video 20 percent better. The overall contribution of email to this conversion is 35 percent.\n",
        "\n",
        ">The contributions of all the touch points are then normalized to ensure they always add up to 100 percent. In other words, the credit of the conversion is proportionately assigned to each touch point based on its relative contribution in increasing the user’s probability to convert."
      ]
    },
    {
      "metadata": {
        "id": "dOwQBBM6sz-I",
        "colab_type": "code",
        "colab": {}
      },
      "cell_type": "code",
      "source": [
        "import pandas as pd\n",
        "import numpy as np\n",
        "import itertools\n",
        "import urllib2\n",
        "import matplotlib.pylab as plt\n",
        "plt.style.use(\"fivethirtyeight\")"
      ],
      "execution_count": 0,
      "outputs": []
    },
    {
      "metadata": {
        "id": "6iWCFXRK2XRt",
        "colab_type": "text"
      },
      "cell_type": "markdown",
      "source": [
        "## Query GA Data in BigQuery\n",
        "The <a href=\"https://storage.googleapis.com/pats-test/sql/multi_touch_attribution.sql\">multi_touch_attribution.sql</a> SQL is used to format our data in the appropriate schema for our data pipeline.\n",
        "\n",
        "You'll want to download and inspect the SQL, and then upload that file to your local Drive directory below:"
      ]
    },
    {
      "metadata": {
        "id": "mx4M6LWr2s6C",
        "colab_type": "text"
      },
      "cell_type": "markdown",
      "source": [
        "You're ready to execute the query after adding a target table and start and end dates. In our case we're using the BigQuery GA data for Google Merchandize Store.\n"
      ]
    },
    {
      "metadata": {
        "id": "JJDERjTMMdbt",
        "colab_type": "code",
        "colab": {}
      },
      "cell_type": "code",
      "source": [
        "#@title Enter your BigQuery project ID { run: \"auto\", display-mode: \"form\" }\n",
        "project = \"analyticspros.com:spotted-cinnamon-834\" #@param {type:\"string\"}\n",
        "target = \"kendrascott-bigquery.130140208.ga_sessions_*\" #@param {type:\"string\"}\n",
        "start = \"2017-12-17\" #@param {type:\"date\"}\n",
        "end = \"2017-12-23\" #@param {type:\"date\"}\n"
      ],
      "execution_count": 0,
      "outputs": []
    },
    {
      "metadata": {
        "id": "cZH91Fpus_Pv",
        "colab_type": "code",
        "colab": {
          "base_uri": "https://localhost:8080/",
          "height": 221
        },
        "outputId": "7147baaf-794f-4b5b-9d47-1a96ceda8d7d"
      },
      "cell_type": "code",
      "source": [
        "sql_query = urllib2 \\\n",
        "  .urlopen(\"https://storage.googleapis.com/pats-test/sql/multi_touch_attribution.sql\") \\\n",
        "  .read().format(target,start.replace(\"-\",\"\"),end.replace(\"-\",\"\"))\n",
        "\n",
        "ga_data = pd.io.gbq.read_gbq(sql_query,project_id=project,dialect='standard')\n",
        "\n",
        "print ga_data.shape\n",
        "ga_data.sample(5)"
      ],
      "execution_count": 21,
      "outputs": [
        {
          "output_type": "stream",
          "text": [
            "(444608, 3)\n"
          ],
          "name": "stdout"
        },
        {
          "output_type": "execute_result",
          "data": {
            "text/html": [
              "<div>\n",
              "<style scoped>\n",
              "    .dataframe tbody tr th:only-of-type {\n",
              "        vertical-align: middle;\n",
              "    }\n",
              "\n",
              "    .dataframe tbody tr th {\n",
              "        vertical-align: top;\n",
              "    }\n",
              "\n",
              "    .dataframe thead th {\n",
              "        text-align: right;\n",
              "    }\n",
              "</style>\n",
              "<table border=\"1\" class=\"dataframe\">\n",
              "  <thead>\n",
              "    <tr style=\"text-align: right;\">\n",
              "      <th></th>\n",
              "      <th>fullVisitorId</th>\n",
              "      <th>channels</th>\n",
              "      <th>converted</th>\n",
              "    </tr>\n",
              "  </thead>\n",
              "  <tbody>\n",
              "    <tr>\n",
              "      <th>189608</th>\n",
              "      <td>4543397800871401854</td>\n",
              "      <td>[Paid Search]</td>\n",
              "      <td>0</td>\n",
              "    </tr>\n",
              "    <tr>\n",
              "      <th>180495</th>\n",
              "      <td>4375395237350021857</td>\n",
              "      <td>[Email]</td>\n",
              "      <td>0</td>\n",
              "    </tr>\n",
              "    <tr>\n",
              "      <th>437970</th>\n",
              "      <td>917576926262106065</td>\n",
              "      <td>[Organic Search]</td>\n",
              "      <td>0</td>\n",
              "    </tr>\n",
              "    <tr>\n",
              "      <th>146314</th>\n",
              "      <td>3737989908434294804</td>\n",
              "      <td>[Paid Search]</td>\n",
              "      <td>0</td>\n",
              "    </tr>\n",
              "    <tr>\n",
              "      <th>271182</th>\n",
              "      <td>6061212640250451430</td>\n",
              "      <td>[Direct]</td>\n",
              "      <td>0</td>\n",
              "    </tr>\n",
              "  </tbody>\n",
              "</table>\n",
              "</div>"
            ],
            "text/plain": [
              "              fullVisitorId          channels  converted\n",
              "189608  4543397800871401854     [Paid Search]          0\n",
              "180495  4375395237350021857           [Email]          0\n",
              "437970   917576926262106065  [Organic Search]          0\n",
              "146314  3737989908434294804     [Paid Search]          0\n",
              "271182  6061212640250451430          [Direct]          0"
            ]
          },
          "metadata": {
            "tags": []
          },
          "execution_count": 21
        }
      ]
    },
    {
      "metadata": {
        "id": "YrD-pq3P195-",
        "colab_type": "text"
      },
      "cell_type": "markdown",
      "source": [
        "## Individual Channel Probability\n",
        "\n",
        "<img src=\"https://storage.googleapis.com/pats-test/images/channel_probability.jpg\">  \n",
        "\n",
        "    P(y|xi) = positives / positives + negatives = conversions / users = channel conversion rate  \n"
      ]
    },
    {
      "metadata": {
        "id": "EgwqXCQ3tgM5",
        "colab_type": "code",
        "colab": {
          "base_uri": "https://localhost:8080/",
          "height": 359
        },
        "outputId": "491f2850-fc2a-4d28-bd94-8fbcbe98f113"
      },
      "cell_type": "code",
      "source": [
        "channel_metrics_map = {}  \n",
        "\n",
        "for user in ga_data.to_records(): \n",
        "    \n",
        "    for channel in user[\"channels\"]:\n",
        "        \n",
        "        if not channel in channel_metrics_map:\n",
        "            channel_metrics_map[channel] = { \"conversions\": 0.0, \"users\": 0.0 }\n",
        "            \n",
        "        channel_metrics_map[channel][\"conversions\"] += float(user[\"converted\"])\n",
        "        channel_metrics_map[channel][\"users\"] += 1.0 \n",
        "\n",
        "pd.DataFrame(channel_metrics_map).transpose().sort_values(by='conversions',ascending=False)"
      ],
      "execution_count": 22,
      "outputs": [
        {
          "output_type": "execute_result",
          "data": {
            "text/html": [
              "<div>\n",
              "<style scoped>\n",
              "    .dataframe tbody tr th:only-of-type {\n",
              "        vertical-align: middle;\n",
              "    }\n",
              "\n",
              "    .dataframe tbody tr th {\n",
              "        vertical-align: top;\n",
              "    }\n",
              "\n",
              "    .dataframe thead th {\n",
              "        text-align: right;\n",
              "    }\n",
              "</style>\n",
              "<table border=\"1\" class=\"dataframe\">\n",
              "  <thead>\n",
              "    <tr style=\"text-align: right;\">\n",
              "      <th></th>\n",
              "      <th>conversions</th>\n",
              "      <th>users</th>\n",
              "    </tr>\n",
              "  </thead>\n",
              "  <tbody>\n",
              "    <tr>\n",
              "      <th>Paid Search</th>\n",
              "      <td>8396.0</td>\n",
              "      <td>125164.0</td>\n",
              "    </tr>\n",
              "    <tr>\n",
              "      <th>Organic Search</th>\n",
              "      <td>6560.0</td>\n",
              "      <td>117392.0</td>\n",
              "    </tr>\n",
              "    <tr>\n",
              "      <th>Direct</th>\n",
              "      <td>4932.0</td>\n",
              "      <td>86969.0</td>\n",
              "    </tr>\n",
              "    <tr>\n",
              "      <th>Email</th>\n",
              "      <td>4478.0</td>\n",
              "      <td>66718.0</td>\n",
              "    </tr>\n",
              "    <tr>\n",
              "      <th>Affiliates</th>\n",
              "      <td>1613.0</td>\n",
              "      <td>9106.0</td>\n",
              "    </tr>\n",
              "    <tr>\n",
              "      <th>Referral</th>\n",
              "      <td>1525.0</td>\n",
              "      <td>22546.0</td>\n",
              "    </tr>\n",
              "    <tr>\n",
              "      <th>Display</th>\n",
              "      <td>284.0</td>\n",
              "      <td>17186.0</td>\n",
              "    </tr>\n",
              "    <tr>\n",
              "      <th>Paid Social</th>\n",
              "      <td>228.0</td>\n",
              "      <td>31442.0</td>\n",
              "    </tr>\n",
              "    <tr>\n",
              "      <th>Organic Social</th>\n",
              "      <td>33.0</td>\n",
              "      <td>2078.0</td>\n",
              "    </tr>\n",
              "    <tr>\n",
              "      <th>(Other)</th>\n",
              "      <td>18.0</td>\n",
              "      <td>244.0</td>\n",
              "    </tr>\n",
              "  </tbody>\n",
              "</table>\n",
              "</div>"
            ],
            "text/plain": [
              "                conversions     users\n",
              "Paid Search          8396.0  125164.0\n",
              "Organic Search       6560.0  117392.0\n",
              "Direct               4932.0   86969.0\n",
              "Email                4478.0   66718.0\n",
              "Affiliates           1613.0    9106.0\n",
              "Referral             1525.0   22546.0\n",
              "Display               284.0   17186.0\n",
              "Paid Social           228.0   31442.0\n",
              "Organic Social         33.0    2078.0\n",
              "(Other)                18.0     244.0"
            ]
          },
          "metadata": {
            "tags": []
          },
          "execution_count": 22
        }
      ]
    },
    {
      "metadata": {
        "id": "_fqLU-7Y2Dl_",
        "colab_type": "text"
      },
      "cell_type": "markdown",
      "source": [
        "## Pairwise Channel Probabilities\n",
        "\n",
        "<img src=\"https://storage.googleapis.com/pats-test/images/pairwise_probability.png\">"
      ]
    },
    {
      "metadata": {
        "id": "0fSPMKRfxGE8",
        "colab_type": "code",
        "colab": {
          "base_uri": "https://localhost:8080/",
          "height": 359
        },
        "outputId": "01505832-f14e-49d8-88e5-ebf5c243d61f"
      },
      "cell_type": "code",
      "source": [
        "channel_metrics = channel_metrics_map.copy()\n",
        "\n",
        "for xi,xj in itertools.combinations(channel_metrics.keys(), 2):\n",
        "    \n",
        "    key = \"{}|{}\".format(xi, xj)\n",
        "    \n",
        "    for user in ga_data.loc[ga_data.channels.map(lambda c: ((xi in c) & (xj in c))) == True].to_records():\n",
        "         \n",
        "        if not key in channel_metrics: \n",
        "            channel_metrics[key] = { \"conversions\": 0.0, \"users\": 0.0 }\n",
        "\n",
        "        channel_metrics[key][\"conversions\"] += float(user[3]) \n",
        "        channel_metrics[key][\"users\"] += 1.0 \n",
        "\n",
        "pd.DataFrame(channel_metrics).transpose().sort_values(by='conversions', ascending=False) \\\n",
        "    .reset_index().rename(columns={'index':'channels'})[:10]"
      ],
      "execution_count": 23,
      "outputs": [
        {
          "output_type": "execute_result",
          "data": {
            "text/html": [
              "<div>\n",
              "<style scoped>\n",
              "    .dataframe tbody tr th:only-of-type {\n",
              "        vertical-align: middle;\n",
              "    }\n",
              "\n",
              "    .dataframe tbody tr th {\n",
              "        vertical-align: top;\n",
              "    }\n",
              "\n",
              "    .dataframe thead th {\n",
              "        text-align: right;\n",
              "    }\n",
              "</style>\n",
              "<table border=\"1\" class=\"dataframe\">\n",
              "  <thead>\n",
              "    <tr style=\"text-align: right;\">\n",
              "      <th></th>\n",
              "      <th>channels</th>\n",
              "      <th>conversions</th>\n",
              "      <th>users</th>\n",
              "    </tr>\n",
              "  </thead>\n",
              "  <tbody>\n",
              "    <tr>\n",
              "      <th>0</th>\n",
              "      <td>Paid Search</td>\n",
              "      <td>8396.0</td>\n",
              "      <td>125164.0</td>\n",
              "    </tr>\n",
              "    <tr>\n",
              "      <th>1</th>\n",
              "      <td>Organic Search</td>\n",
              "      <td>6560.0</td>\n",
              "      <td>117392.0</td>\n",
              "    </tr>\n",
              "    <tr>\n",
              "      <th>2</th>\n",
              "      <td>Direct</td>\n",
              "      <td>4932.0</td>\n",
              "      <td>86969.0</td>\n",
              "    </tr>\n",
              "    <tr>\n",
              "      <th>3</th>\n",
              "      <td>Email</td>\n",
              "      <td>4478.0</td>\n",
              "      <td>66718.0</td>\n",
              "    </tr>\n",
              "    <tr>\n",
              "      <th>4</th>\n",
              "      <td>Affiliates</td>\n",
              "      <td>1613.0</td>\n",
              "      <td>9106.0</td>\n",
              "    </tr>\n",
              "    <tr>\n",
              "      <th>5</th>\n",
              "      <td>Referral</td>\n",
              "      <td>1525.0</td>\n",
              "      <td>22546.0</td>\n",
              "    </tr>\n",
              "    <tr>\n",
              "      <th>6</th>\n",
              "      <td>Paid Search|Organic Search</td>\n",
              "      <td>1021.0</td>\n",
              "      <td>12096.0</td>\n",
              "    </tr>\n",
              "    <tr>\n",
              "      <th>7</th>\n",
              "      <td>Email|Paid Search</td>\n",
              "      <td>947.0</td>\n",
              "      <td>3145.0</td>\n",
              "    </tr>\n",
              "    <tr>\n",
              "      <th>8</th>\n",
              "      <td>Email|Organic Search</td>\n",
              "      <td>752.0</td>\n",
              "      <td>2855.0</td>\n",
              "    </tr>\n",
              "    <tr>\n",
              "      <th>9</th>\n",
              "      <td>Affiliates|Paid Search</td>\n",
              "      <td>684.0</td>\n",
              "      <td>1793.0</td>\n",
              "    </tr>\n",
              "  </tbody>\n",
              "</table>\n",
              "</div>"
            ],
            "text/plain": [
              "                     channels  conversions     users\n",
              "0                 Paid Search       8396.0  125164.0\n",
              "1              Organic Search       6560.0  117392.0\n",
              "2                      Direct       4932.0   86969.0\n",
              "3                       Email       4478.0   66718.0\n",
              "4                  Affiliates       1613.0    9106.0\n",
              "5                    Referral       1525.0   22546.0\n",
              "6  Paid Search|Organic Search       1021.0   12096.0\n",
              "7           Email|Paid Search        947.0    3145.0\n",
              "8        Email|Organic Search        752.0    2855.0\n",
              "9      Affiliates|Paid Search        684.0    1793.0"
            ]
          },
          "metadata": {
            "tags": []
          },
          "execution_count": 23
        }
      ]
    },
    {
      "metadata": {
        "id": "_k6lMU9_4ESh",
        "colab_type": "text"
      },
      "cell_type": "markdown",
      "source": [
        "### Add calculated field: `Conversion Rate`"
      ]
    },
    {
      "metadata": {
        "id": "UJ0zTqUhySNJ",
        "colab_type": "code",
        "colab": {
          "base_uri": "https://localhost:8080/",
          "height": 204
        },
        "outputId": "cb16b4d1-452e-40c3-9ee3-01caa4d5dfc5"
      },
      "cell_type": "code",
      "source": [
        "for key in channel_metrics:\n",
        "    channel_metrics[key][\"conversion rate\"] = np.divide(\n",
        "        channel_metrics[key][\"conversions\"] , \n",
        "        channel_metrics[key][\"users\"]\n",
        "    )\n",
        "\n",
        "pd.DataFrame(channel_metrics).transpose().sort_values(by='conversions', ascending=False) \\\n",
        "    .reset_index().rename(columns={'index':'channels'})[:5]"
      ],
      "execution_count": 24,
      "outputs": [
        {
          "output_type": "execute_result",
          "data": {
            "text/html": [
              "<div>\n",
              "<style scoped>\n",
              "    .dataframe tbody tr th:only-of-type {\n",
              "        vertical-align: middle;\n",
              "    }\n",
              "\n",
              "    .dataframe tbody tr th {\n",
              "        vertical-align: top;\n",
              "    }\n",
              "\n",
              "    .dataframe thead th {\n",
              "        text-align: right;\n",
              "    }\n",
              "</style>\n",
              "<table border=\"1\" class=\"dataframe\">\n",
              "  <thead>\n",
              "    <tr style=\"text-align: right;\">\n",
              "      <th></th>\n",
              "      <th>channels</th>\n",
              "      <th>conversion rate</th>\n",
              "      <th>conversions</th>\n",
              "      <th>users</th>\n",
              "    </tr>\n",
              "  </thead>\n",
              "  <tbody>\n",
              "    <tr>\n",
              "      <th>0</th>\n",
              "      <td>Paid Search</td>\n",
              "      <td>0.067080</td>\n",
              "      <td>8396.0</td>\n",
              "      <td>125164.0</td>\n",
              "    </tr>\n",
              "    <tr>\n",
              "      <th>1</th>\n",
              "      <td>Organic Search</td>\n",
              "      <td>0.055881</td>\n",
              "      <td>6560.0</td>\n",
              "      <td>117392.0</td>\n",
              "    </tr>\n",
              "    <tr>\n",
              "      <th>2</th>\n",
              "      <td>Direct</td>\n",
              "      <td>0.056710</td>\n",
              "      <td>4932.0</td>\n",
              "      <td>86969.0</td>\n",
              "    </tr>\n",
              "    <tr>\n",
              "      <th>3</th>\n",
              "      <td>Email</td>\n",
              "      <td>0.067118</td>\n",
              "      <td>4478.0</td>\n",
              "      <td>66718.0</td>\n",
              "    </tr>\n",
              "    <tr>\n",
              "      <th>4</th>\n",
              "      <td>Affiliates</td>\n",
              "      <td>0.177136</td>\n",
              "      <td>1613.0</td>\n",
              "      <td>9106.0</td>\n",
              "    </tr>\n",
              "  </tbody>\n",
              "</table>\n",
              "</div>"
            ],
            "text/plain": [
              "         channels  conversion rate  conversions     users\n",
              "0     Paid Search         0.067080       8396.0  125164.0\n",
              "1  Organic Search         0.055881       6560.0  117392.0\n",
              "2          Direct         0.056710       4932.0   86969.0\n",
              "3           Email         0.067118       4478.0   66718.0\n",
              "4      Affiliates         0.177136       1613.0    9106.0"
            ]
          },
          "metadata": {
            "tags": []
          },
          "execution_count": 24
        }
      ]
    },
    {
      "metadata": {
        "id": "u_ueLjzj4JL7",
        "colab_type": "text"
      },
      "cell_type": "markdown",
      "source": [
        "## Simple Multi-Touch Probabilistic Model\n",
        "<img src=\"https://storage.googleapis.com/pats-test/images/model.png\">"
      ]
    },
    {
      "metadata": {
        "id": "UCTMXO8Vz0E9",
        "colab_type": "code",
        "colab": {
          "base_uri": "https://localhost:8080/",
          "height": 359
        },
        "outputId": "8854c8ca-bbca-46c0-9489-82cad6fb9027"
      },
      "cell_type": "code",
      "source": [
        "channels = [ c for c in channel_metrics.keys() if not \"|\" in c ]\n",
        "channel_contrib = {} \n",
        "\n",
        "for channel in channels:\n",
        "    \n",
        "    p_xi = channel_metrics[channel][\"conversion rate\"]\n",
        "    \n",
        "    combinations = [ c for c in channel_metrics.keys() if channel in c and \"|\" in c ] \n",
        "    n = np.divide(1.0 , float(2 * len(combinations)))\n",
        "    \n",
        "    sum_part = []\n",
        "    \n",
        "    for combination in combinations:\n",
        "        \n",
        "        xi_xj = channel_metrics[combination][\"conversion rate\"]\n",
        "                                             \n",
        "        xi = channel_metrics[ combination.split(\"|\")[0] ][\"conversion rate\"]\n",
        "        xj = channel_metrics[ combination.split(\"|\")[1] ][\"conversion rate\"]\n",
        "                                             \n",
        "        sum_part.append(xi_xj - xi - xj)\n",
        "    \n",
        "    s = np.sum(sum_part)\n",
        "    channel_contrib[channel] = p_xi + n * (s if s > 0 else 0)\n",
        "\n",
        "pd.DataFrame([channel_contrib]).transpose()"
      ],
      "execution_count": 25,
      "outputs": [
        {
          "output_type": "execute_result",
          "data": {
            "text/html": [
              "<div>\n",
              "<style scoped>\n",
              "    .dataframe tbody tr th:only-of-type {\n",
              "        vertical-align: middle;\n",
              "    }\n",
              "\n",
              "    .dataframe tbody tr th {\n",
              "        vertical-align: top;\n",
              "    }\n",
              "\n",
              "    .dataframe thead th {\n",
              "        text-align: right;\n",
              "    }\n",
              "</style>\n",
              "<table border=\"1\" class=\"dataframe\">\n",
              "  <thead>\n",
              "    <tr style=\"text-align: right;\">\n",
              "      <th></th>\n",
              "      <th>0</th>\n",
              "    </tr>\n",
              "  </thead>\n",
              "  <tbody>\n",
              "    <tr>\n",
              "      <th>(Other)</th>\n",
              "      <td>0.073770</td>\n",
              "    </tr>\n",
              "    <tr>\n",
              "      <th>Affiliates</th>\n",
              "      <td>0.229502</td>\n",
              "    </tr>\n",
              "    <tr>\n",
              "      <th>Direct</th>\n",
              "      <td>0.101363</td>\n",
              "    </tr>\n",
              "    <tr>\n",
              "      <th>Display</th>\n",
              "      <td>0.017313</td>\n",
              "    </tr>\n",
              "    <tr>\n",
              "      <th>Email</th>\n",
              "      <td>0.134646</td>\n",
              "    </tr>\n",
              "    <tr>\n",
              "      <th>Organic Search</th>\n",
              "      <td>0.069781</td>\n",
              "    </tr>\n",
              "    <tr>\n",
              "      <th>Organic Social</th>\n",
              "      <td>0.022925</td>\n",
              "    </tr>\n",
              "    <tr>\n",
              "      <th>Paid Search</th>\n",
              "      <td>0.082520</td>\n",
              "    </tr>\n",
              "    <tr>\n",
              "      <th>Paid Social</th>\n",
              "      <td>0.007251</td>\n",
              "    </tr>\n",
              "    <tr>\n",
              "      <th>Referral</th>\n",
              "      <td>0.120119</td>\n",
              "    </tr>\n",
              "  </tbody>\n",
              "</table>\n",
              "</div>"
            ],
            "text/plain": [
              "                       0\n",
              "(Other)         0.073770\n",
              "Affiliates      0.229502\n",
              "Direct          0.101363\n",
              "Display         0.017313\n",
              "Email           0.134646\n",
              "Organic Search  0.069781\n",
              "Organic Social  0.022925\n",
              "Paid Search     0.082520\n",
              "Paid Social     0.007251\n",
              "Referral        0.120119"
            ]
          },
          "metadata": {
            "tags": []
          },
          "execution_count": 25
        }
      ]
    },
    {
      "metadata": {
        "id": "JYb-_gqy4QQR",
        "colab_type": "text"
      },
      "cell_type": "markdown",
      "source": [
        "### Covert to `% of Total`, column sums to 1"
      ]
    },
    {
      "metadata": {
        "id": "YxgG9gzu4Q6d",
        "colab_type": "code",
        "colab": {
          "base_uri": "https://localhost:8080/",
          "height": 376
        },
        "outputId": "f4205525-0d4d-4076-b081-18c0ec51176b"
      },
      "cell_type": "code",
      "source": [
        "c_sum = np.sum([ channel_contrib[ch] for ch in channel_contrib.keys() ])\n",
        "for key in channel_contrib.keys():\n",
        "    channel_contrib[key] /= c_sum\n",
        "    \n",
        "results = pd.DataFrame(channel_contrib.items())\n",
        "results.columns=['channel','contribution']\n",
        "print \"The contribution column sums to {}\".format(sum(results[\"contribution\"]))\n",
        "results.sort_values(by='contribution',ascending=False).reset_index(drop=True)"
      ],
      "execution_count": 26,
      "outputs": [
        {
          "output_type": "stream",
          "text": [
            "The contribution column sums to 1.0\n"
          ],
          "name": "stdout"
        },
        {
          "output_type": "execute_result",
          "data": {
            "text/html": [
              "<div>\n",
              "<style scoped>\n",
              "    .dataframe tbody tr th:only-of-type {\n",
              "        vertical-align: middle;\n",
              "    }\n",
              "\n",
              "    .dataframe tbody tr th {\n",
              "        vertical-align: top;\n",
              "    }\n",
              "\n",
              "    .dataframe thead th {\n",
              "        text-align: right;\n",
              "    }\n",
              "</style>\n",
              "<table border=\"1\" class=\"dataframe\">\n",
              "  <thead>\n",
              "    <tr style=\"text-align: right;\">\n",
              "      <th></th>\n",
              "      <th>channel</th>\n",
              "      <th>contribution</th>\n",
              "    </tr>\n",
              "  </thead>\n",
              "  <tbody>\n",
              "    <tr>\n",
              "      <th>0</th>\n",
              "      <td>Affiliates</td>\n",
              "      <td>0.267114</td>\n",
              "    </tr>\n",
              "    <tr>\n",
              "      <th>1</th>\n",
              "      <td>Email</td>\n",
              "      <td>0.156712</td>\n",
              "    </tr>\n",
              "    <tr>\n",
              "      <th>2</th>\n",
              "      <td>Referral</td>\n",
              "      <td>0.139805</td>\n",
              "    </tr>\n",
              "    <tr>\n",
              "      <th>3</th>\n",
              "      <td>Direct</td>\n",
              "      <td>0.117975</td>\n",
              "    </tr>\n",
              "    <tr>\n",
              "      <th>4</th>\n",
              "      <td>Paid Search</td>\n",
              "      <td>0.096044</td>\n",
              "    </tr>\n",
              "    <tr>\n",
              "      <th>5</th>\n",
              "      <td>(Other)</td>\n",
              "      <td>0.085860</td>\n",
              "    </tr>\n",
              "    <tr>\n",
              "      <th>6</th>\n",
              "      <td>Organic Search</td>\n",
              "      <td>0.081217</td>\n",
              "    </tr>\n",
              "    <tr>\n",
              "      <th>7</th>\n",
              "      <td>Organic Social</td>\n",
              "      <td>0.026682</td>\n",
              "    </tr>\n",
              "    <tr>\n",
              "      <th>8</th>\n",
              "      <td>Display</td>\n",
              "      <td>0.020151</td>\n",
              "    </tr>\n",
              "    <tr>\n",
              "      <th>9</th>\n",
              "      <td>Paid Social</td>\n",
              "      <td>0.008440</td>\n",
              "    </tr>\n",
              "  </tbody>\n",
              "</table>\n",
              "</div>"
            ],
            "text/plain": [
              "          channel  contribution\n",
              "0      Affiliates      0.267114\n",
              "1           Email      0.156712\n",
              "2        Referral      0.139805\n",
              "3          Direct      0.117975\n",
              "4     Paid Search      0.096044\n",
              "5         (Other)      0.085860\n",
              "6  Organic Search      0.081217\n",
              "7  Organic Social      0.026682\n",
              "8         Display      0.020151\n",
              "9     Paid Social      0.008440"
            ]
          },
          "metadata": {
            "tags": []
          },
          "execution_count": 26
        }
      ]
    },
    {
      "metadata": {
        "id": "CUzq71g94Xg7",
        "colab_type": "text"
      },
      "cell_type": "markdown",
      "source": [
        "### Add context by creating weighted fields"
      ]
    },
    {
      "metadata": {
        "id": "st5R-ugD4VA3",
        "colab_type": "code",
        "colab": {
          "base_uri": "https://localhost:8080/",
          "height": 359
        },
        "outputId": "6ddf5fc4-0c04-4d22-f3d8-54d7dd1b78f6"
      },
      "cell_type": "code",
      "source": [
        "results[\"conversions\"] = results.channel.map(lambda x: channel_metrics[x][\"conversions\"])\n",
        "\n",
        "results[\"score\"] = results[\"conversions\"] * results[\"contribution\"]\n",
        "\n",
        "results['importance'] = np.divide(\n",
        "    results['score']-results['score'].min() , \n",
        "    results['score'].max()-results['score'].min()\n",
        ")\n",
        "\n",
        "results = results.sort_values('importance',ascending=False).fillna(0).reset_index(drop=True)\n",
        "results"
      ],
      "execution_count": 27,
      "outputs": [
        {
          "output_type": "execute_result",
          "data": {
            "text/html": [
              "<div>\n",
              "<style scoped>\n",
              "    .dataframe tbody tr th:only-of-type {\n",
              "        vertical-align: middle;\n",
              "    }\n",
              "\n",
              "    .dataframe tbody tr th {\n",
              "        vertical-align: top;\n",
              "    }\n",
              "\n",
              "    .dataframe thead th {\n",
              "        text-align: right;\n",
              "    }\n",
              "</style>\n",
              "<table border=\"1\" class=\"dataframe\">\n",
              "  <thead>\n",
              "    <tr style=\"text-align: right;\">\n",
              "      <th></th>\n",
              "      <th>channel</th>\n",
              "      <th>contribution</th>\n",
              "      <th>conversions</th>\n",
              "      <th>score</th>\n",
              "      <th>importance</th>\n",
              "    </tr>\n",
              "  </thead>\n",
              "  <tbody>\n",
              "    <tr>\n",
              "      <th>0</th>\n",
              "      <td>Paid Search</td>\n",
              "      <td>0.096044</td>\n",
              "      <td>8396.0</td>\n",
              "      <td>806.382059</td>\n",
              "      <td>1.000000</td>\n",
              "    </tr>\n",
              "    <tr>\n",
              "      <th>1</th>\n",
              "      <td>Email</td>\n",
              "      <td>0.156712</td>\n",
              "      <td>4478.0</td>\n",
              "      <td>701.757745</td>\n",
              "      <td>0.870113</td>\n",
              "    </tr>\n",
              "    <tr>\n",
              "      <th>2</th>\n",
              "      <td>Direct</td>\n",
              "      <td>0.117975</td>\n",
              "      <td>4932.0</td>\n",
              "      <td>581.854033</td>\n",
              "      <td>0.721257</td>\n",
              "    </tr>\n",
              "    <tr>\n",
              "      <th>3</th>\n",
              "      <td>Organic Search</td>\n",
              "      <td>0.081217</td>\n",
              "      <td>6560.0</td>\n",
              "      <td>532.781999</td>\n",
              "      <td>0.660336</td>\n",
              "    </tr>\n",
              "    <tr>\n",
              "      <th>4</th>\n",
              "      <td>Affiliates</td>\n",
              "      <td>0.267114</td>\n",
              "      <td>1613.0</td>\n",
              "      <td>430.854902</td>\n",
              "      <td>0.533797</td>\n",
              "    </tr>\n",
              "    <tr>\n",
              "      <th>5</th>\n",
              "      <td>Referral</td>\n",
              "      <td>0.139805</td>\n",
              "      <td>1525.0</td>\n",
              "      <td>213.202419</td>\n",
              "      <td>0.263590</td>\n",
              "    </tr>\n",
              "    <tr>\n",
              "      <th>6</th>\n",
              "      <td>Display</td>\n",
              "      <td>0.020151</td>\n",
              "      <td>284.0</td>\n",
              "      <td>5.722819</td>\n",
              "      <td>0.006012</td>\n",
              "    </tr>\n",
              "    <tr>\n",
              "      <th>7</th>\n",
              "      <td>Paid Social</td>\n",
              "      <td>0.008440</td>\n",
              "      <td>228.0</td>\n",
              "      <td>1.924286</td>\n",
              "      <td>0.001296</td>\n",
              "    </tr>\n",
              "    <tr>\n",
              "      <th>8</th>\n",
              "      <td>(Other)</td>\n",
              "      <td>0.085860</td>\n",
              "      <td>18.0</td>\n",
              "      <td>1.545487</td>\n",
              "      <td>0.000826</td>\n",
              "    </tr>\n",
              "    <tr>\n",
              "      <th>9</th>\n",
              "      <td>Organic Social</td>\n",
              "      <td>0.026682</td>\n",
              "      <td>33.0</td>\n",
              "      <td>0.880512</td>\n",
              "      <td>0.000000</td>\n",
              "    </tr>\n",
              "  </tbody>\n",
              "</table>\n",
              "</div>"
            ],
            "text/plain": [
              "          channel  contribution  conversions       score  importance\n",
              "0     Paid Search      0.096044       8396.0  806.382059    1.000000\n",
              "1           Email      0.156712       4478.0  701.757745    0.870113\n",
              "2          Direct      0.117975       4932.0  581.854033    0.721257\n",
              "3  Organic Search      0.081217       6560.0  532.781999    0.660336\n",
              "4      Affiliates      0.267114       1613.0  430.854902    0.533797\n",
              "5        Referral      0.139805       1525.0  213.202419    0.263590\n",
              "6         Display      0.020151        284.0    5.722819    0.006012\n",
              "7     Paid Social      0.008440        228.0    1.924286    0.001296\n",
              "8         (Other)      0.085860         18.0    1.545487    0.000826\n",
              "9  Organic Social      0.026682         33.0    0.880512    0.000000"
            ]
          },
          "metadata": {
            "tags": []
          },
          "execution_count": 27
        }
      ]
    },
    {
      "metadata": {
        "id": "JvSvlYWV4eKc",
        "colab_type": "text"
      },
      "cell_type": "markdown",
      "source": [
        "## Visualize the data  "
      ]
    },
    {
      "metadata": {
        "id": "7tV3Kzlh4Y_J",
        "colab_type": "code",
        "colab": {
          "base_uri": "https://localhost:8080/",
          "height": 409
        },
        "outputId": "f34e657c-408e-4188-f097-8e3bdca303d0"
      },
      "cell_type": "code",
      "source": [
        "fig, ax = plt.subplots()\n",
        "cmap = plt.cm.get_cmap('tab20')\n",
        "for i,row in results.iterrows():\n",
        "  ax.scatter(\"contribution\", \"conversions\",label=row.channel,\n",
        "             s=row.importance*500, c=cmap(i), data=row)\n",
        "plt.xlabel(\"Contribution Score\")\n",
        "plt.ylabel(\"Conversions\")\n",
        "plt.title(\"Contribution Score by Conversions per Channel\")\n",
        "plt.legend(loc=0)\n",
        "plt.show()"
      ],
      "execution_count": 28,
      "outputs": [
        {
          "output_type": "display_data",
          "data": {
            "image/png": "[encoded data removed]",
            "text/plain": [
              "<matplotlib.figure.Figure at 0x7f19f99f52d0>"
            ]
          },
          "metadata": {
            "tags": []
          }
        }
      ]
    },
    {
      "metadata": {
        "id": "c44LGjiqt_Wy",
        "colab_type": "text"
      },
      "cell_type": "markdown",
      "source": [
        "<h3>Contribution Score over 12 weeks (example):</h3>"
      ]
    },
    {
      "metadata": {
        "id": "jqNvxa1HtyQU",
        "colab_type": "code",
        "colab": {
          "base_uri": "https://localhost:8080/",
          "height": 453
        },
        "outputId": "55f2b758-10cc-49e2-cc6f-14af1d54adb2"
      },
      "cell_type": "code",
      "source": [
        "from IPython.display import YouTubeVideo\n",
        "YouTubeVideo(\"OBZILfAf4xQ\",width=768, height=432)"
      ],
      "execution_count": 29,
      "outputs": [
        {
          "output_type": "execute_result",
          "data": {
            "text/html": [
              "\n",
              "        <iframe\n",
              "            width=\"768\"\n",
              "            height=\"432\"\n",
              "            src=\"https://www.youtube.com/embed/OBZILfAf4xQ\"\n",
              "            frameborder=\"0\"\n",
              "            allowfullscreen\n",
              "        ></iframe>\n",
              "        "
            ],
            "image/jpeg": "[encoded data removed]",
            "text/plain": [
              "<IPython.lib.display.YouTubeVideo at 0x7f1a011738d0>"
            ]
          },
          "metadata": {
            "tags": []
          },
          "execution_count": 29
        }
      ]
    },
    {
      "metadata": {
        "id": "KxR5VonPt28T",
        "colab_type": "code",
        "colab": {}
      },
      "cell_type": "code",
      "source": [
        ""
      ],
      "execution_count": 0,
      "outputs": []
    }
  ]
}